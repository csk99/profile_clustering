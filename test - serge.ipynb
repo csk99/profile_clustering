{
 "cells": [
  {
   "cell_type": "code",
   "execution_count": null,
   "metadata": {},
   "outputs": [],
   "source": [
    "#installation des bibliothèques nécessaires\n",
    "!pip3 install matplotlib\n",
    "!pip3 install pandas\n",
    "!pip3 install numpy\n",
    "!pip3 install seaborn\n",
    "!pip3 install -U scikit-learn"
   ]
  },
  {
   "cell_type": "code",
   "execution_count": 1,
   "metadata": {},
   "outputs": [],
   "source": [
    "# Import des packages nécessaires\n",
    "import numpy as np\n",
    "import pandas as pd\n",
    "import seaborn as sns\n",
    "import matplotlib.pyplot as plt\n",
    "import warnings\n",
    "\n",
    "warnings.filterwarnings(action='ignore')  # Pour supprimer certains messages d'avertissement pouvant interférer avec les \"print\"\n"
   ]
  },
  {
   "cell_type": "code",
   "execution_count": 2,
   "metadata": {},
   "outputs": [],
   "source": [
    "# Lecture de la base de données\n",
    "# Chemin d'accès (attention si le code est exécuté sur Linux ou macOS)\n",
    "chemin = \"Equancy - Test technique\\\\Equancy - Test technique - stagiaires\\\\data.csv\"\n",
    "\n",
    "candidats = pd.read_csv(chemin)\n"
   ]
  },
  {
   "cell_type": "code",
   "execution_count": 3,
   "metadata": {},
   "outputs": [
    {
     "data": {
      "text/html": [
       "<div>\n",
       "<style scoped>\n",
       "    .dataframe tbody tr th:only-of-type {\n",
       "        vertical-align: middle;\n",
       "    }\n",
       "\n",
       "    .dataframe tbody tr th {\n",
       "        vertical-align: top;\n",
       "    }\n",
       "\n",
       "    .dataframe thead th {\n",
       "        text-align: right;\n",
       "    }\n",
       "</style>\n",
       "<table border=\"1\" class=\"dataframe\">\n",
       "  <thead>\n",
       "    <tr style=\"text-align: right;\">\n",
       "      <th></th>\n",
       "      <th>Entreprise</th>\n",
       "      <th>Metier</th>\n",
       "      <th>Technologies</th>\n",
       "      <th>Diplome</th>\n",
       "      <th>Experience</th>\n",
       "      <th>Ville</th>\n",
       "    </tr>\n",
       "  </thead>\n",
       "  <tbody>\n",
       "    <tr>\n",
       "      <th>0</th>\n",
       "      <td>Sanofi</td>\n",
       "      <td>Data scientist</td>\n",
       "      <td>Matlab/Python/Pyspark/Scikit-learn/Tensorflow</td>\n",
       "      <td>Master</td>\n",
       "      <td>1</td>\n",
       "      <td>Paris</td>\n",
       "    </tr>\n",
       "    <tr>\n",
       "      <th>1</th>\n",
       "      <td>Massachusetts General Hospital(MGH)</td>\n",
       "      <td>Data architecte</td>\n",
       "      <td>Python/Java/Scala/MongoDB</td>\n",
       "      <td>Master</td>\n",
       "      <td>3</td>\n",
       "      <td>Marseille</td>\n",
       "    </tr>\n",
       "    <tr>\n",
       "      <th>2</th>\n",
       "      <td>Delve</td>\n",
       "      <td>Lead data scientist</td>\n",
       "      <td>SPSS/SQL/Teradata/R/Python/Tensorflow/scikit-l...</td>\n",
       "      <td>Master</td>\n",
       "      <td>3</td>\n",
       "      <td>Nantes</td>\n",
       "    </tr>\n",
       "    <tr>\n",
       "      <th>3</th>\n",
       "      <td>Ann &amp; Robert H. Lurie Children’s Hospital of C...</td>\n",
       "      <td>Data scientist</td>\n",
       "      <td>C/C++/Java/Python</td>\n",
       "      <td>Master</td>\n",
       "      <td>1,5</td>\n",
       "      <td>Marseille</td>\n",
       "    </tr>\n",
       "    <tr>\n",
       "      <th>4</th>\n",
       "      <td>Arm</td>\n",
       "      <td>Data scientist</td>\n",
       "      <td>Matlab/Python/C++/numpy/Tensorflow/scikit-learn</td>\n",
       "      <td>Phd</td>\n",
       "      <td>NaN</td>\n",
       "      <td>Bordeaux</td>\n",
       "    </tr>\n",
       "  </tbody>\n",
       "</table>\n",
       "</div>"
      ],
      "text/plain": [
       "                                          Entreprise               Metier  \\\n",
       "0                                             Sanofi       Data scientist   \n",
       "1                Massachusetts General Hospital(MGH)      Data architecte   \n",
       "2                                              Delve  Lead data scientist   \n",
       "3  Ann & Robert H. Lurie Children’s Hospital of C...       Data scientist   \n",
       "4                                                Arm       Data scientist   \n",
       "\n",
       "                                        Technologies Diplome Experience  \\\n",
       "0      Matlab/Python/Pyspark/Scikit-learn/Tensorflow  Master          1   \n",
       "1                          Python/Java/Scala/MongoDB  Master          3   \n",
       "2  SPSS/SQL/Teradata/R/Python/Tensorflow/scikit-l...  Master          3   \n",
       "3                                  C/C++/Java/Python  Master        1,5   \n",
       "4    Matlab/Python/C++/numpy/Tensorflow/scikit-learn     Phd        NaN   \n",
       "\n",
       "       Ville  \n",
       "0      Paris  \n",
       "1  Marseille  \n",
       "2     Nantes  \n",
       "3  Marseille  \n",
       "4   Bordeaux  "
      ]
     },
     "execution_count": 3,
     "metadata": {},
     "output_type": "execute_result"
    }
   ],
   "source": [
    "#obsevarion préalable de la BD (5 premières lignes)\n",
    "candidats.head()"
   ]
  },
  {
   "cell_type": "code",
   "execution_count": 4,
   "metadata": {},
   "outputs": [
    {
     "name": "stdout",
     "output_type": "stream",
     "text": [
      "<class 'pandas.core.frame.DataFrame'>\n",
      "RangeIndex: 9582 entries, 0 to 9581\n",
      "Data columns (total 6 columns):\n",
      " #   Column        Non-Null Count  Dtype \n",
      "---  ------        --------------  ----- \n",
      " 0   Entreprise    9565 non-null   object\n",
      " 1   Metier        9563 non-null   object\n",
      " 2   Technologies  9582 non-null   object\n",
      " 3   Diplome       9582 non-null   object\n",
      " 4   Experience    9488 non-null   object\n",
      " 5   Ville         9582 non-null   object\n",
      "dtypes: object(6)\n",
      "memory usage: 449.3+ KB\n"
     ]
    }
   ],
   "source": [
    "#affichage de certaines infos sur la BD \n",
    "candidats.info()"
   ]
  },
  {
   "cell_type": "code",
   "execution_count": 5,
   "metadata": {},
   "outputs": [
    {
     "data": {
      "text/plain": [
       "Entreprise       object\n",
       "Metier           object\n",
       "Technologies     object\n",
       "Diplome          object\n",
       "Experience      float64\n",
       "Ville            object\n",
       "dtype: object"
      ]
     },
     "execution_count": 5,
     "metadata": {},
     "output_type": "execute_result"
    }
   ],
   "source": [
    "# Conversion de la colonne Experience de string(object) en float\n",
    "\n",
    "# Remplacer d'abord toutes les ',' par '.' car Python utilise '.' pour les nombres décimaux et non ','\n",
    "candidats['Experience'] = candidats['Experience'].apply(lambda x: float(x.replace(',','.')) if ',' in str(x) else float(x))\n",
    "\n",
    "# Vérification du résultat\n",
    "candidats.dtypes\n"
   ]
  },
  {
   "cell_type": "markdown",
   "metadata": {},
   "source": [
    "# Réponses aux Questions : "
   ]
  },
  {
   "cell_type": "markdown",
   "metadata": {},
   "source": [
    "**1 -a) Combien y a t-il d'observations dans ce dataset?**"
   ]
  },
  {
   "cell_type": "code",
   "execution_count": 6,
   "metadata": {},
   "outputs": [
    {
     "name": "stdout",
     "output_type": "stream",
     "text": [
      "Ce dataset comporte 9582 observations\n"
     ]
    }
   ],
   "source": [
    "print(f\"Ce dataset comporte {candidats.shape[0]} observations\")\n"
   ]
  },
  {
   "cell_type": "markdown",
   "metadata": {},
   "source": [
    "**1 -b )Y a t-il des valeurs manquantes ?**"
   ]
  },
  {
   "cell_type": "code",
   "execution_count": 7,
   "metadata": {},
   "outputs": [
    {
     "data": {
      "text/plain": [
       "Entreprise    17\n",
       "Metier        19\n",
       "Experience    94\n",
       "dtype: int64"
      ]
     },
     "execution_count": 7,
     "metadata": {},
     "output_type": "execute_result"
    }
   ],
   "source": [
    "candidats.isna().sum(axis=0)[candidats.isna().sum(axis=0) !=0]\n",
    "#candidats.isna() verify si chaque cellule du dataframe est NaN  ou pas \n",
    "# et en applicant la somme (sum), par colonnes, on obtient le nombre de valeurs nulles pour chaque colonnes\n",
    "#on teste si cette valeur est différente de 0 pour filter le résultat"
   ]
  },
  {
   "cell_type": "markdown",
   "metadata": {},
   "source": [
    "**Oui** il ya des données manquantes dans les columns **\"Entreprise\", \"Metier\" et \"Experience\"**"
   ]
  },
  {
   "cell_type": "markdown",
   "metadata": {},
   "source": [
    "**2) Réaliser l'imputation des valeurs manquantes pour la variable \"Experience\"\n",
    "avec :**                          \n"
   ]
  },
  {
   "cell_type": "code",
   "execution_count": 63,
   "metadata": {},
   "outputs": [
    {
     "data": {
      "text/plain": [
       "Data scientist         32\n",
       "Data architecte        23\n",
       "Data engineer          20\n",
       "Lead data scientist    19\n",
       "Name: Metier, dtype: int64"
      ]
     },
     "execution_count": 63,
     "metadata": {},
     "output_type": "execute_result"
    }
   ],
   "source": [
    "# Filtrer les candidats avec des valeurs manquantes dans la colonne 'Experience'\n",
    "candidat_exp_na_ = candidats['Experience'].isna()\n",
    "\n",
    "# Compter les occurrences de chaque valeur de la colonne 'Metier' pour les candidats avec des valeurs manquantes dans la variable 'Experience'\n",
    "candidats.iloc[candidats['Experience'][candidat_exp_na_].index]['Metier'].value_counts()\n"
   ]
  },
  {
   "cell_type": "code",
   "execution_count": 64,
   "metadata": {},
   "outputs": [],
   "source": [
    "def imputation(profil: str, methode: str, data: pd.DataFrame) -> pd.DataFrame:\n",
    "    \"\"\"Cette fonction réalise l'imputation des valeurs manquantes de la variable 'Expérience' du dataset 'data' \n",
    "    selon le profil  et la méthode passés en paramètre.\n",
    "    Elle retourne un dataframe résultant de ces imputations.\"\"\"\n",
    "    \n",
    "    # Créer un dictionnaire de méthodes d'imputation\n",
    "    imputation_dict = {'mediane': np.nanmedian, \"moyenne\": np.mean}\n",
    "\n",
    "    # Créer une copie de la BD qui sera imputée par la suite\n",
    "    candidats_imputer = data.copy()\n",
    "\n",
    "    # Condition sélectionnant les candidats dont le métier est le profil spécifié\n",
    "    condition_profil = candidats_imputer['Metier'] == profil\n",
    "\n",
    "    # Condition sélectionnant les candidats dont le métier est le profil spécifié et dont la valeur de l'expérience est NaN\n",
    "    condition_profil_et_na = (condition_profil & (candidats_imputer['Experience'].isna()))\n",
    "\n",
    "    # Calcul de la valeur d'imputation selon la méthode\n",
    "    valeur_imputation = imputation_dict[methode](candidats_imputer[condition_profil][\"Experience\"])\n",
    "\n",
    "    # Remplacer les valeurs NaN par la moyenne suivant la condition \"condition_profil_et_na\"\n",
    "    candidats_imputer.loc[condition_profil_et_na, 'Experience'] = valeur_imputation\n",
    "    \n",
    "    #vérifier si l'opération a réussi en affichant le nombre de valeurs manquantes pour la variable Experience du profil donné\n",
    "    print(f\"Le nombre de valeurs manquantes pour la variable Experience pour le profil {profil} = {candidats_imputer[condition_profil]['Experience'].isna().sum()}\")\n",
    "\n",
    "    return candidats_imputer\n"
   ]
  },
  {
   "cell_type": "markdown",
   "metadata": {},
   "source": [
    "**2 -a) la valeur médiane pour les data scientists**"
   ]
  },
  {
   "cell_type": "code",
   "execution_count": 65,
   "metadata": {},
   "outputs": [
    {
     "name": "stdout",
     "output_type": "stream",
     "text": [
      "Le nombre de valeurs manquantes pour la variable Experience pour le profil Data scientist = 0\n"
     ]
    }
   ],
   "source": [
    "#appeler la fonction définie précédemment selon les paramètres profil=\"Data scientist\" et methode=\"mediane\"\n",
    "candidats_imputer = imputation(profil=\"Data scientist\",methode=\"mediane\",data=candidats)"
   ]
  },
  {
   "cell_type": "markdown",
   "metadata": {},
   "source": [
    "**2 -b) la valeur moyenne pour les data engineer**"
   ]
  },
  {
   "cell_type": "code",
   "execution_count": 66,
   "metadata": {},
   "outputs": [
    {
     "name": "stdout",
     "output_type": "stream",
     "text": [
      "Le nombre de valeurs manquantes pour la variable Experience pour le profil Data engineer = 0\n"
     ]
    }
   ],
   "source": [
    "#appeler la fonction définie précédemment selon les paramètres profil=\"Data enginee\" et methode=\"moyenne\"\n",
    "candidats_imputer = imputation(profil=\"Data engineer\",methode=\"moyenne\",data=candidats_imputer)"
   ]
  },
  {
   "cell_type": "code",
   "execution_count": 67,
   "metadata": {},
   "outputs": [
    {
     "data": {
      "text/plain": [
       "Data architecte        23\n",
       "Lead data scientist    19\n",
       "Name: Metier, dtype: int64"
      ]
     },
     "execution_count": 67,
     "metadata": {},
     "output_type": "execute_result"
    }
   ],
   "source": [
    "#vérification du résultat\n",
    "candidats_imputer.iloc[candidats_imputer['Experience'][candidats_imputer['Experience'].isna()].index]['Metier'].value_counts()\n"
   ]
  },
  {
   "cell_type": "markdown",
   "metadata": {},
   "source": [
    "On peut bien remarquer que les profiles Data Scientist et Data engineer n'apparaissent plus parmi les profils dont le nombre d'années d'expérience est NaN. Ce qui n'est pas le cas pour les profils Data architecte et Lead Data Scientist, que nous allons imputer par la suite."
   ]
  },
  {
   "cell_type": "markdown",
   "metadata": {},
   "source": [
    "**3) Combien d'années d'expériences ont, en moyenne, chacun des profils : le\n",
    "data scientist, le lead data scientist et le data engineer en moyenne ?**"
   ]
  },
  {
   "cell_type": "code",
   "execution_count": 68,
   "metadata": {},
   "outputs": [
    {
     "name": "stdout",
     "output_type": "stream",
     "text": [
      "Le nombre de valeurs manquantes pour la variable Experience pour le profil Lead data scientist = 0\n",
      "Le nombre de valeurs manquantes pour la variable Experience pour le profil Data architecte = 0\n"
     ]
    }
   ],
   "source": [
    "# Remplacement des valeurs manquantes pour la variable 'Experience' pour les 2 autres profils\n",
    "candidats_imputer = imputation(profil=\"Lead data scientist\", methode=\"moyenne\", data=candidats_imputer)\n",
    "candidats_imputer = imputation(profil=\"Data architecte\", methode=\"moyenne\", data=candidats_imputer)"
   ]
  },
  {
   "cell_type": "code",
   "execution_count": 69,
   "metadata": {},
   "outputs": [
    {
     "name": "stdout",
     "output_type": "stream",
     "text": [
      "Le Data scientist a en moyenne 2.24 années d'expérience\n",
      "Le Lead data scientist a en moyenne 3.97 années d'expérience\n",
      "Le Data engineer a en moyenne 2.98 années d'expérience\n"
     ]
    }
   ],
   "source": [
    "# Sélection des profils 'Data scientist', 'Lead data scientist', et 'Data engineer'\n",
    "profils = ['Data scientist', 'Lead data scientist', \"Data engineer\"]\n",
    "data = candidats_imputer[candidats_imputer['Metier'].isin(profils)]\n",
    "\n",
    "# Calcul de la moyenne des années d'expérience pour chaque profil sélectionné\n",
    "experiences = dict(data[['Metier', \"Experience\"]].groupby(\"Metier\").mean()['Experience'])\n",
    "\n",
    "# Affichage de la moyenne des années d'expérience pour chaque profil\n",
    "for profil in profils:\n",
    "    print(f\"Le {profil} a en moyenne {experiences[profil]:.2f} années d'expérience\")\n"
   ]
  },
  {
   "cell_type": "markdown",
   "metadata": {},
   "source": [
    "**4) Faire la représentation graphique de votre choix afin de comparer le\n",
    "nombre moyen d'années d'expériences pour chaque métier**"
   ]
  },
  {
   "cell_type": "markdown",
   "metadata": {},
   "source": [
    "Notre choix s'est porté sur le Barplot car il est très simple et permet de montrer intuitivement le nombre moyen d'années d'experérience de chaque métier. Aussi, nous pouvons facilement comparer ce nombre pour chaque métier."
   ]
  },
  {
   "cell_type": "code",
   "execution_count": 70,
   "metadata": {},
   "outputs": [
    {
     "data": {
      "image/png": "[encoded data removed]",
      "text/plain": [
       "<Figure size 576x576 with 1 Axes>"
      ]
     },
     "metadata": {
      "needs_background": "light"
     },
     "output_type": "display_data"
    }
   ],
   "source": [
    "plt.figure(figsize=(8, 8))\n",
    "# Séléctionner les colonnes d'intérêt, ici 'Metier' et  \"Experience\" et les grouper par Metier et calculer la moyenne d'expérience\n",
    "experiences = dict(candidats_imputer[['Metier', \"Experience\"]].groupby(\"Metier\").mean()['Experience'])\n",
    "\n",
    "#créer un dictionnaire contenant les résultats dont les clés sont les métiers et les moyennes d'experience les valeurs respectives associées\n",
    "ax = sns.barplot(x=list(experiences.keys()), y=list(experiences.values())) \n",
    "\n",
    "#pour afficher les valeurs au dessus des barres\n",
    "ax.bar_label(ax.containers[0]);"
   ]
  },
  {
   "cell_type": "markdown",
   "metadata": {},
   "source": [
    "**5) Transformer la variable continue 'Experience' en une nouvelle variable\n",
    "catégorielle 'Exp_label' à 4 modalités : débutant, confirmé, avancé et expert.**"
   ]
  },
  {
   "cell_type": "markdown",
   "metadata": {},
   "source": [
    "Nous allons diviser transformer la variable 'Experience' en utilisant la règle ci-dessous.        \n",
    "   Si  Experience <=1 alors \"debutant\"      \n",
    "            Experience in [2, 4] alors \"confirmé\"     \n",
    "            Experience in [5, 9] alors \"avancé\"     \n",
    "            Experience >=10     alors \"expert\"\n",
    "\n",
    "Cette règle utilise les intervalles utilisés en général par les RH pour qualifier les professionnels sur la base du nombre d'années d'experience.\n",
    "\n",
    "De plus, en  Machine Learning, s'appuyer sur \"l'expertise métier\", ici celle des RH permet d'avoir des informations fiables pour résoudre le problème avec précision."
   ]
  },
  {
   "cell_type": "code",
   "execution_count": 71,
   "metadata": {},
   "outputs": [
    {
     "data": {
      "text/html": [
       "<div>\n",
       "<style scoped>\n",
       "    .dataframe tbody tr th:only-of-type {\n",
       "        vertical-align: middle;\n",
       "    }\n",
       "\n",
       "    .dataframe tbody tr th {\n",
       "        vertical-align: top;\n",
       "    }\n",
       "\n",
       "    .dataframe thead th {\n",
       "        text-align: right;\n",
       "    }\n",
       "</style>\n",
       "<table border=\"1\" class=\"dataframe\">\n",
       "  <thead>\n",
       "    <tr style=\"text-align: right;\">\n",
       "      <th></th>\n",
       "      <th>Experience</th>\n",
       "      <th>Exp_label</th>\n",
       "    </tr>\n",
       "  </thead>\n",
       "  <tbody>\n",
       "    <tr>\n",
       "      <th>0</th>\n",
       "      <td>1.0</td>\n",
       "      <td>debutant</td>\n",
       "    </tr>\n",
       "    <tr>\n",
       "      <th>1</th>\n",
       "      <td>3.0</td>\n",
       "      <td>confirmé</td>\n",
       "    </tr>\n",
       "    <tr>\n",
       "      <th>2</th>\n",
       "      <td>3.0</td>\n",
       "      <td>confirmé</td>\n",
       "    </tr>\n",
       "    <tr>\n",
       "      <th>3</th>\n",
       "      <td>1.5</td>\n",
       "      <td>confirmé</td>\n",
       "    </tr>\n",
       "    <tr>\n",
       "      <th>4</th>\n",
       "      <td>2.0</td>\n",
       "      <td>confirmé</td>\n",
       "    </tr>\n",
       "  </tbody>\n",
       "</table>\n",
       "</div>"
      ],
      "text/plain": [
       "   Experience Exp_label\n",
       "0         1.0  debutant\n",
       "1         3.0  confirmé\n",
       "2         3.0  confirmé\n",
       "3         1.5  confirmé\n",
       "4         2.0  confirmé"
      ]
     },
     "execution_count": 71,
     "metadata": {},
     "output_type": "execute_result"
    }
   ],
   "source": [
    "def experience_label(experience: float) -> str:\n",
    "    '''Cette fonction prend en paramètre l'année d'expérience et\n",
    "    retourne le label correspondant à sa catégorie\n",
    "    Si  experience <= 1 alors \"debutant\"\n",
    "    experience in [2, 4] alors \"confirmé\"\n",
    "    experience in [5, 9] alors \"avancé\"\n",
    "    experience >= 10 alors \"expert\"\n",
    "    '''\n",
    "    if experience < 0:  # Génère une exception si la valeur est négative\n",
    "        raise Exception(\"La valeur de l'expérience ne peut être négative\")\n",
    "    if experience <= 1:\n",
    "        return \"debutant\"\n",
    "    elif experience > 1 and experience <= 4:\n",
    "        return \"confirmé\"\n",
    "    elif experience > 4 and experience <= 9:\n",
    "        return \"avancé\"\n",
    "    else:\n",
    "        return \"expert\"\n",
    "\n",
    "# Appliquer cette fonction à la colonne experience\n",
    "candidats_imputer[\"Exp_label\"] = candidats_imputer[\"Experience\"].apply(experience_label)\n",
    "\n",
    "# Vérifier les résultats\n",
    "candidats_imputer[[\"Experience\", \"Exp_label\"]].head()\n"
   ]
  },
  {
   "cell_type": "markdown",
   "metadata": {},
   "source": [
    "**6) Quelles sont les 5 technologies les plus utilisées ? Faites un graphique**"
   ]
  },
  {
   "cell_type": "code",
   "execution_count": 72,
   "metadata": {},
   "outputs": [
    {
     "data": {
      "image/png": "[encoded data removed]",
      "text/plain": [
       "<Figure size 576x576 with 1 Axes>"
      ]
     },
     "metadata": {
      "needs_background": "light"
     },
     "output_type": "display_data"
    }
   ],
   "source": [
    "# La colonne technologies contient des données sous la forme \"Python\\R...\"\n",
    "# 1. Extraire chaque technologie en appliquant sur la colonne concernée (Technologie) qui est de type str\n",
    "# en utilisant split(\"\\\") \"\\\" critère de division de la chaîne et en finissant expand=True\n",
    "# pour transformer chaque liste issue de l'opération \"split\" en colonne\n",
    "# 2. Superposer chaque colonne pour créer une pd.Series et appliquer le value_count pour compter les mots\n",
    "# 3. Trier la Serie par ordre décroissant\n",
    "# 4. Sélectionner grâce au slicing les 5 technologies les plus utilisées\n",
    "\n",
    "top_tech = dict(\n",
    "    candidats_imputer[\"Technologies\"]\n",
    "    .str.split('/', expand=True)\n",
    "    .stack()\n",
    "    .value_counts()\n",
    "    .sort_values(ascending=False)[:5]\n",
    ")\n",
    "plt.figure(figsize=(8, 8))\n",
    "ax = sns.barplot(x=list(top_tech.keys()), y=list(top_tech.values()))\n",
    "ax.bar_label(ax.containers[0]);\n"
   ]
  },
  {
   "cell_type": "markdown",
   "metadata": {},
   "source": [
    "**7) Réaliser une méthode de clustering non supervisée de votre choix pour faire\n",
    "apparaître le nombre de clusters que vous jugerez pertinents. Donnez les\n",
    "caractéristiques de chacun des clusters.              \n",
    "a) Justifier le nombre de clusters**\n"
   ]
  },
  {
   "cell_type": "markdown",
   "metadata": {},
   "source": [
    "Parmi les méthodes de clusterings, qui existent nous avons choisi d'implemter la méthode **KMEANS** car:\n",
    "\n",
    "- facile à implémenter et interpréter \n",
    "- Peut gérer les données de haute dimension\n"
   ]
  },
  {
   "cell_type": "markdown",
   "metadata": {},
   "source": [
    "Avant de passer à la modélisation, il est important de préparer les données.\n",
    "Il s'agira en autre de :\n",
    "\n",
    "- Encoder les valeurs non-numériques (Technologies, Diplome) avec Label Encoder (Approche N°1) Puis One Hot Encoder (Approche N°2)</li>\n",
    "-  Supprimer les colonnes non pertinentes\n",
    "-  Normaliser les données (avec standardscaler)\n",
    "-  Choisir le nombre de cluster (Méthode du coude) \n",
    "-  Entrainer et tester le modèle avec le nombre choisi précédemment \n"
   ]
  },
  {
   "cell_type": "markdown",
   "metadata": {},
   "source": [
    "Nous utilisons la méthode du coude (Elbow Method en anglais), afin de déterminer le nombre de cluster.   \n",
    "En effet, elle est très simple et permet de trouver de façon intituitive (graphique) le nombre approprié de clusters"
   ]
  },
  {
   "cell_type": "markdown",
   "metadata": {},
   "source": [
    "**Approche N°1**"
   ]
  },
  {
   "cell_type": "code",
   "execution_count": 73,
   "metadata": {},
   "outputs": [
    {
     "name": "stdout",
     "output_type": "stream",
     "text": [
      "La BD a les caractéristiques suivantes : (9582, 3)\n"
     ]
    },
    {
     "data": {
      "image/png": "[encoded data removed]",
      "text/plain": [
       "<Figure size 432x288 with 1 Axes>"
      ]
     },
     "metadata": {
      "needs_background": "light"
     },
     "output_type": "display_data"
    }
   ],
   "source": [
    "from sklearn.preprocessing import LabelEncoder, StandardScaler\n",
    "from sklearn.cluster import KMeans\n",
    "from sklearn.metrics import silhouette_score\n",
    "import matplotlib.pyplot as plt\n",
    "\n",
    "# Créer l'objet LabelEncoder\n",
    "labelencoder = LabelEncoder()\n",
    "\n",
    "# Encoder la variable diplome\n",
    "diplomes = labelencoder.fit_transform(candidats_imputer['Diplome'])\n",
    "\n",
    "# Encoder la variable technologies\n",
    "technologies = labelencoder.fit_transform(candidats_imputer['Technologies'])\n",
    "\n",
    "# Créer une copie de la BD\n",
    "data = candidats_imputer.copy()\n",
    "\n",
    "# Création des nouvelles variables résultant de ces encodages\n",
    "data['diplomes_enc'] = diplomes\n",
    "data['technologies_enc'] = technologies\n",
    "\n",
    "\n",
    "# Sélectionner les colonnes d'intérêt\n",
    "variables = ['diplomes_enc','technologies_enc', 'Experience']\n",
    "data = data[variables]\n",
    "\n",
    "\n",
    "\n",
    "# Mettre tous les features dans la même échelle\n",
    "X = StandardScaler().fit_transform(data)\n",
    "\n",
    "print(f\"La BD a les caractéristiques suivantes : {X.shape}\")\n",
    "# Méthode du coude\n",
    "sum_of_square_distance = {}\n",
    "\n",
    "# Tester plusieurs valeurs de clusters\n",
    "for k in range(1, 10):\n",
    "    # Entraîner l'algorithme KMeans pour cette valeur de k\n",
    "    # Random_state pour la reproductibilité du code\n",
    "    kmeans = KMeans(n_clusters=k, max_iter=1000, random_state=k).fit(X)\n",
    "    sum_of_square_distance[k] = kmeans.inertia_\n",
    "\n",
    "# Afficher la courbe du nombre de clusters en fonction de la somme des distances au carré\n",
    "plt.plot(list(sum_of_square_distance.keys()), list(sum_of_square_distance.values()), color=\"b\")\n",
    "plt.xlabel(\"Nombre de clusters\")\n",
    "plt.ylabel(\"Somme des distances au carré\")\n",
    "plt.show()"
   ]
  },
  {
   "cell_type": "markdown",
   "metadata": {},
   "source": [
    "D'après le graphique précédent, nous choissons la valeur **4** comme nombre de cluster, car après 4 la  la somme des distance au carré ne diminue plus de façon significative.Ce qui correspond à la valeur attendue (car la BD contient 4 types de profiles)"
   ]
  },
  {
   "cell_type": "code",
   "execution_count": 74,
   "metadata": {},
   "outputs": [
    {
     "name": "stdout",
     "output_type": "stream",
     "text": [
      "Le score de silhouette = 0.3732462447155676\n",
      "The SSD = 11151.43\n"
     ]
    }
   ],
   "source": [
    "kmeans_l = KMeans(n_clusters=4, max_iter=1000,random_state=4).fit(X)\n",
    "silhouette_l = silhouette_score(X, labels=kmeans_l.labels_)\n",
    "ssd = kmeans_l.inertia_\n",
    "\n",
    "print(f\"Le score de silhouette = {silhouette_l}\")\n",
    "print(f\"The SSD = {ssd:.2f}\")\n"
   ]
  },
  {
   "cell_type": "markdown",
   "metadata": {},
   "source": [
    "**Approche N°2**"
   ]
  },
  {
   "cell_type": "code",
   "execution_count": 75,
   "metadata": {},
   "outputs": [
    {
     "name": "stdout",
     "output_type": "stream",
     "text": [
      "La BD a les caractéristiques suivantes : (9582, 62)\n"
     ]
    },
    {
     "data": {
      "text/plain": [
       "<Figure size 1600x1600 with 0 Axes>"
      ]
     },
     "metadata": {},
     "output_type": "display_data"
    },
    {
     "data": {
      "image/png": "[encoded data removed]",
      "text/plain": [
       "<Figure size 432x288 with 1 Axes>"
      ]
     },
     "metadata": {
      "needs_background": "light"
     },
     "output_type": "display_data"
    }
   ],
   "source": [
    "# Encoder les variables de type str(object) grâce au One Hot Encoding\n",
    "data_one_hot = candidats_imputer.copy()\n",
    "diplomes_one = data_one_hot[\"Diplome\"].str.get_dummies()\n",
    "technologies_one = data_one_hot[\"Technologies\"].str.get_dummies()\n",
    "\n",
    "\n",
    "#concater les résultats et obtention de la BD de train\n",
    "data_one_hot = pd.concat([data_one_hot['Experience'], diplomes_one, technologies_one], axis=1)\n",
    "\n",
    "print(f\"La BD a les caractéristiques suivantes : {data_one_hot.shape}\")\n",
    "\n",
    "sum_of_square_distance = {}\n",
    "\n",
    "for k in range(1, 10):\n",
    "    kmeans = KMeans(n_clusters=k, max_iter=1000, random_state=k).fit(data_one_hot)\n",
    "    sum_of_square_distance[k] = kmeans.inertia_\n",
    "\n",
    "plt.figure(figsize=(8, 8), dpi=200)\n",
    "fig, ax = plt.subplots()\n",
    "ax.plot(list(sum_of_square_distance.keys()), list(sum_of_square_distance.values()), color=\"b\")\n",
    "ax.set_xlabel(\"Nombre de clusters\")\n",
    "ax.set_ylabel(\"Somme des distances au carré\")\n",
    "plt.show()\n"
   ]
  },
  {
   "cell_type": "markdown",
   "metadata": {},
   "source": [
    "De même, d'après le graphique précédent, nous choissons la valeur <b>4</b> comme nombre de cluster, car après 4 la  la somme des distance au carré ne diminue plus de façon significative. Ce qui correspond à la valeur attendue (car la BD contient 4 types de profiles)"
   ]
  },
  {
   "cell_type": "code",
   "execution_count": 76,
   "metadata": {},
   "outputs": [
    {
     "name": "stdout",
     "output_type": "stream",
     "text": [
      "Le silhouette score  =  0.28822875139282567\n",
      "The SSD =  23347.526401192\n"
     ]
    }
   ],
   "source": [
    "kmeans_one = KMeans(n_clusters=4,max_iter=1000,random_state=4).fit(data_one_hot)\n",
    "print(f\"Le silhouette score  =  {silhouette_score(data_one_hot,labels=kmeans_one.labels_)}\")\n",
    "print(f\"The SSD =  {kmeans_one.inertia_}\")"
   ]
  },
  {
   "cell_type": "markdown",
   "metadata": {},
   "source": [
    "**b. Justifier la performance de votre algorithme grâce à une métrique.**"
   ]
  },
  {
   "cell_type": "markdown",
   "metadata": {},
   "source": [
    "Le tableau ci-dessous, résume les deux approches nous avons utilisés\n",
    "\\begin{array}{|c|c|c|c|}\n",
    "\\hline\n",
    "\\text{Methods} & \\text{Silhouette Score} & \\text{Somme des distances au carré} \\\\\n",
    "\\hline\n",
    "\\text{ONE Hot} & \\text{0.2882} & \\text{ 23,347.5264}  \\\\\n",
    "\\text{Label Encoder} & \\textbf{\\text{0.3733}} & \\textbf{\\text{ 11,129.77}}  \\\\\n",
    "\\hline\n",
    "\\end{array}\n",
    "\n"
   ]
  },
  {
   "cell_type": "markdown",
   "metadata": {},
   "source": [
    "La méthode One Hot crée  15 fois plus  variables supplémentaires  par rapport à la méthode LabelEncoder. En analysant les métriques calculées, on observe que la méthode LabelEncoder présente le meilleur score de silhouette et la somme la plus faible des carrés des distances par rapport aux centres des clusters. La valeur élevée de la somme des distances au carré en One hot peut s'expliquer par la haute dimensionalité (62) variables introduite par la méthode."
   ]
  },
  {
   "cell_type": "markdown",
   "metadata": {},
   "source": [
    "**7-c ) Interpréter votre résultat.**"
   ]
  },
  {
   "cell_type": "markdown",
   "metadata": {},
   "source": [
    "Conclusion :\n",
    "On peut conclure que l'algorithme K-Means a réalisé un travail satisfaisant en identifiant les 4 clusters (profils de Métiers) présents dans le jeu de données. Ce résultat est caractérisé par un coefficient de silhouette de **0.37** pour l'approche N°1, qui bien qu'inférieur à 0.5, reste néanmoins acceptable car il est supérieur à 0. Une valeur inférieure à cela indiquerait une capacité limitée du modèle à associer chaque point à un cluster de manière significative."
   ]
  },
  {
   "cell_type": "markdown",
   "metadata": {},
   "source": [
    "**8) Réaliser la prédiction des métiers manquants dans la base de données par\n",
    "l'algorithme de votre choix  \n",
    "a. Justifier la performance de votre algorithme grâce à une métrique.**"
   ]
  },
  {
   "cell_type": "code",
   "execution_count": 77,
   "metadata": {},
   "outputs": [],
   "source": [
    "def encodage_variable(data_to_encode, columns_to_encode, encoder=labelencoder):\n",
    "    \"\"\"\n",
    "    Encode les variables spécifiées dans un jeu de données.\n",
    "    \"\"\"\n",
    "    # Créer une copie de la base de données\n",
    "    data = data_to_encode.copy()\n",
    "\n",
    "    # Encoder les variables\n",
    "    for column in columns_to_encode:\n",
    "        # Encoder la variable spécifiée\n",
    "        result = encoder.fit_transform(data_to_encode[column])\n",
    "        data[column + '_enc'] = result\n",
    "\n",
    "    return data\n"
   ]
  },
  {
   "cell_type": "code",
   "execution_count": 78,
   "metadata": {},
   "outputs": [],
   "source": [
    "#preparation des données\n",
    "#séparation des candidats avec métiers et ceux sans\n",
    "candidats_sans_metier = candidats_imputer[candidats_imputer.Metier.isna()]\n",
    "candidats_avec_metier = candidats_imputer[~candidats_imputer.Metier.isna()]\n",
    "\n",
    "\n",
    "# Créer l'objet LabelEncoder\n",
    "labelencoder = LabelEncoder()\n",
    "#encodage des variables\n",
    "candidats_avec_metier = encodage_variable(candidats_avec_metier,['Technologies','Diplome'])\n",
    "candidats_sans_metier = encodage_variable(candidats_sans_metier,['Technologies','Diplome'])\n",
    "\n",
    "#separation des variables et labels\n",
    "Y = candidats_avec_metier['Metier']\n",
    "X = candidats_avec_metier[['Technologies_enc','Diplome_enc','Experience']]\n",
    "\n",
    "# Mettre tous les features dans la même échelle\n",
    "X = StandardScaler().fit_transform(X)\n",
    "\n",
    "#division de la BD en train et test \n",
    "from sklearn.model_selection import train_test_split\n",
    "X_train, X_test, y_train, y_test =train_test_split(X,Y,test_size=0.3,random_state=101)"
   ]
  },
  {
   "cell_type": "markdown",
   "metadata": {},
   "source": [
    "L'idée ici par la suite serait de tester plusieurs modèles de classification avec les paramètres par défaut,\n",
    "les comparer selon l'accuracy de train et choisir le meilleur que nous pourrons optimiser en changeant les hyper paramètres\n",
    "\n",
    "Nous nous interressons aux SVC, Decision Tree et KNN"
   ]
  },
  {
   "cell_type": "code",
   "execution_count": 79,
   "metadata": {},
   "outputs": [
    {
     "name": "stdout",
     "output_type": "stream",
     "text": [
      "L'accuracy de train du modèle svc est 0.5170301762772632\n",
      "L'accuracy de train du modèle knn est 0.8078876605915746\n",
      "L'accuracy de train du modèle dtree est 0.9262025694651927\n"
     ]
    }
   ],
   "source": [
    "# Importations \n",
    "from sklearn.tree import DecisionTreeClassifier\n",
    "from sklearn.svm import SVC\n",
    "from sklearn.neighbors import KNeighborsClassifier\n",
    "\n",
    "# Dictionnaire de modèles\n",
    "models = {'svc': SVC, \"knn\": KNeighborsClassifier, \"dtree\": DecisionTreeClassifier}\n",
    "models_objects = {}  # Contiendra les modèles (objets)\n",
    "accuracy_models = {}\n",
    "\n",
    "# Boucle pour entraîner et stocker les modèles, leurs accuracy\n",
    "for model_name, model_class in models.items():\n",
    "    clf = model_class()\n",
    "    clf.fit(X_train, y_train) \n",
    "    models_objects[model_name] = clf\n",
    "    accuracy_models[model_name] = clf.score(X_train, y_train)\n",
    "\n",
    "# Affichage des précisions des modèles\n",
    "for model, accuracy in accuracy_models.items():\n",
    "    print(f\"L'accuracy de train du modèle {model} est {accuracy}\")\n"
   ]
  },
  {
   "cell_type": "code",
   "execution_count": 80,
   "metadata": {},
   "outputs": [
    {
     "name": "stdout",
     "output_type": "stream",
     "text": [
      "L'accuracy test est 0.8769606134541652\n",
      "                     precision    recall  f1-score   support\n",
      "\n",
      "    Data architecte       0.99      0.97      0.98       645\n",
      "      Data engineer       1.00      1.00      1.00       671\n",
      "     Data scientist       0.83      0.88      0.86      1171\n",
      "Lead data scientist       0.58      0.48      0.53       382\n",
      "\n",
      "           accuracy                           0.88      2869\n",
      "          macro avg       0.85      0.83      0.84      2869\n",
      "       weighted avg       0.87      0.88      0.87      2869\n",
      "\n"
     ]
    }
   ],
   "source": [
    "from sklearn.metrics import accuracy_score, classification_report\n",
    "print(f\"L'accuracy test est {accuracy_score(y_test,models_objects['dtree'].predict(X_test))}\")\n",
    "print(classification_report(y_test,models_objects[\"dtree\"].predict(X_test)))"
   ]
  },
  {
   "cell_type": "code",
   "execution_count": 81,
   "metadata": {},
   "outputs": [
    {
     "data": {
      "text/plain": [
       "Data scientist         0.404162\n",
       "Data engineer          0.245425\n",
       "Data architecte        0.222001\n",
       "Lead data scientist    0.128412\n",
       "Name: Metier, dtype: float64"
      ]
     },
     "execution_count": 81,
     "metadata": {},
     "output_type": "execute_result"
    }
   ],
   "source": [
    "#pourcetage de métier dans la base de donnés\n",
    "Y.value_counts() / Y.shape"
   ]
  },
  {
   "cell_type": "markdown",
   "metadata": {},
   "source": [
    "À partir de l'analyse du rapport de classification, on constate que les métriques de précision, de rappel et de F1-score sont excellentes pour les classes Data architecte, Data engineer et Data scientist, atteignant même parfois les 100%. Cependant, les performances obtenues pour la classe Lead Data scientist sont relativement faibles. Cela pourrait être dû au fait que cette catégorie n'est pas suffisamment représentée dans la base de données, ne comptant que pour environ 13% de l'échantillon. (confère la cellule précédente)"
   ]
  },
  {
   "cell_type": "code",
   "execution_count": 82,
   "metadata": {},
   "outputs": [
    {
     "data": {
      "text/html": [
       "<div>\n",
       "<style scoped>\n",
       "    .dataframe tbody tr th:only-of-type {\n",
       "        vertical-align: middle;\n",
       "    }\n",
       "\n",
       "    .dataframe tbody tr th {\n",
       "        vertical-align: top;\n",
       "    }\n",
       "\n",
       "    .dataframe thead th {\n",
       "        text-align: right;\n",
       "    }\n",
       "</style>\n",
       "<table border=\"1\" class=\"dataframe\">\n",
       "  <thead>\n",
       "    <tr style=\"text-align: right;\">\n",
       "      <th></th>\n",
       "      <th>Entreprise</th>\n",
       "      <th>Metier</th>\n",
       "      <th>Technologies</th>\n",
       "      <th>Diplome</th>\n",
       "      <th>Experience</th>\n",
       "      <th>Ville</th>\n",
       "      <th>Exp_label</th>\n",
       "      <th>Technologies_enc</th>\n",
       "      <th>Diplome_enc</th>\n",
       "      <th>Prediction_Metier</th>\n",
       "    </tr>\n",
       "  </thead>\n",
       "  <tbody>\n",
       "    <tr>\n",
       "      <th>346</th>\n",
       "      <td>Jacobs</td>\n",
       "      <td>NaN</td>\n",
       "      <td>Python/Spark/GNU/Linux</td>\n",
       "      <td>No diploma</td>\n",
       "      <td>2.5</td>\n",
       "      <td>Paris</td>\n",
       "      <td>confirmé</td>\n",
       "      <td>9</td>\n",
       "      <td>2</td>\n",
       "      <td>Data scientist</td>\n",
       "    </tr>\n",
       "    <tr>\n",
       "      <th>2058</th>\n",
       "      <td>Ball Aerospace</td>\n",
       "      <td>NaN</td>\n",
       "      <td>VBA/Python/Excel/R</td>\n",
       "      <td>Master</td>\n",
       "      <td>15.0</td>\n",
       "      <td>Lyon</td>\n",
       "      <td>expert</td>\n",
       "      <td>13</td>\n",
       "      <td>1</td>\n",
       "      <td>Data scientist</td>\n",
       "    </tr>\n",
       "    <tr>\n",
       "      <th>2670</th>\n",
       "      <td>eHire, LLC</td>\n",
       "      <td>NaN</td>\n",
       "      <td>Java/C/C++/R/Python</td>\n",
       "      <td>Master</td>\n",
       "      <td>1.5</td>\n",
       "      <td>Toulouse</td>\n",
       "      <td>confirmé</td>\n",
       "      <td>3</td>\n",
       "      <td>1</td>\n",
       "      <td>Data architecte</td>\n",
       "    </tr>\n",
       "    <tr>\n",
       "      <th>2899</th>\n",
       "      <td>Norfolk Southern Corp</td>\n",
       "      <td>NaN</td>\n",
       "      <td>Python/Tensorflow/scikit-learn/Deep learning/R</td>\n",
       "      <td>Phd</td>\n",
       "      <td>0.0</td>\n",
       "      <td>Grenoble</td>\n",
       "      <td>debutant</td>\n",
       "      <td>10</td>\n",
       "      <td>3</td>\n",
       "      <td>Data scientist</td>\n",
       "    </tr>\n",
       "    <tr>\n",
       "      <th>3346</th>\n",
       "      <td>J.E. Ranta Associates</td>\n",
       "      <td>NaN</td>\n",
       "      <td>Cassandra/MongoDB/NoSQL/AWS</td>\n",
       "      <td>Master</td>\n",
       "      <td>7.0</td>\n",
       "      <td>Rennes</td>\n",
       "      <td>avancé</td>\n",
       "      <td>0</td>\n",
       "      <td>1</td>\n",
       "      <td>Data engineer</td>\n",
       "    </tr>\n",
       "    <tr>\n",
       "      <th>4248</th>\n",
       "      <td>KPMG</td>\n",
       "      <td>NaN</td>\n",
       "      <td>Python/Microsoft Azure/R/SQL</td>\n",
       "      <td>Phd</td>\n",
       "      <td>2.0</td>\n",
       "      <td>Lyon</td>\n",
       "      <td>confirmé</td>\n",
       "      <td>6</td>\n",
       "      <td>3</td>\n",
       "      <td>Data scientist</td>\n",
       "    </tr>\n",
       "    <tr>\n",
       "      <th>4290</th>\n",
       "      <td>Pandora Media, Inc.</td>\n",
       "      <td>NaN</td>\n",
       "      <td>SAS/Teradata/SQL/R/Python/Machine learning/Ang...</td>\n",
       "      <td>Phd</td>\n",
       "      <td>1.5</td>\n",
       "      <td>Toulouse</td>\n",
       "      <td>confirmé</td>\n",
       "      <td>12</td>\n",
       "      <td>3</td>\n",
       "      <td>Data scientist</td>\n",
       "    </tr>\n",
       "    <tr>\n",
       "      <th>4292</th>\n",
       "      <td>Partners HealthCare(PHS)</td>\n",
       "      <td>NaN</td>\n",
       "      <td>SAS/Teradata/SQL/R/Python/Machine learning/Ang...</td>\n",
       "      <td>Master</td>\n",
       "      <td>8.0</td>\n",
       "      <td>Bordeaux</td>\n",
       "      <td>avancé</td>\n",
       "      <td>12</td>\n",
       "      <td>1</td>\n",
       "      <td>Lead data scientist</td>\n",
       "    </tr>\n",
       "    <tr>\n",
       "      <th>5425</th>\n",
       "      <td>Ashton Lane Group</td>\n",
       "      <td>NaN</td>\n",
       "      <td>Python/Pyspark/Spark</td>\n",
       "      <td>No diploma</td>\n",
       "      <td>5.0</td>\n",
       "      <td>Lyon</td>\n",
       "      <td>avancé</td>\n",
       "      <td>7</td>\n",
       "      <td>2</td>\n",
       "      <td>Data architecte</td>\n",
       "    </tr>\n",
       "    <tr>\n",
       "      <th>5593</th>\n",
       "      <td>Lighthouse Lab Services</td>\n",
       "      <td>NaN</td>\n",
       "      <td>Python/R/machine learning/Excel/VBA/C++</td>\n",
       "      <td>Master</td>\n",
       "      <td>3.0</td>\n",
       "      <td>Lyon</td>\n",
       "      <td>confirmé</td>\n",
       "      <td>8</td>\n",
       "      <td>1</td>\n",
       "      <td>Data scientist</td>\n",
       "    </tr>\n",
       "    <tr>\n",
       "      <th>5712</th>\n",
       "      <td>Ball Aerospace</td>\n",
       "      <td>NaN</td>\n",
       "      <td>Hadoop/Hive/Vertica/Tableau</td>\n",
       "      <td>Bachelor</td>\n",
       "      <td>3.0</td>\n",
       "      <td>Paris</td>\n",
       "      <td>confirmé</td>\n",
       "      <td>2</td>\n",
       "      <td>0</td>\n",
       "      <td>Data scientist</td>\n",
       "    </tr>\n",
       "    <tr>\n",
       "      <th>6024</th>\n",
       "      <td>Leidos</td>\n",
       "      <td>NaN</td>\n",
       "      <td>Linux/Python/Hadoop/Perl/Ruby</td>\n",
       "      <td>Master</td>\n",
       "      <td>1.5</td>\n",
       "      <td>Lyon</td>\n",
       "      <td>confirmé</td>\n",
       "      <td>4</td>\n",
       "      <td>1</td>\n",
       "      <td>Data architecte</td>\n",
       "    </tr>\n",
       "    <tr>\n",
       "      <th>6625</th>\n",
       "      <td>Ball Aerospace</td>\n",
       "      <td>NaN</td>\n",
       "      <td>Hadoop/Hive/Vertica/Tableau</td>\n",
       "      <td>No diploma</td>\n",
       "      <td>0.0</td>\n",
       "      <td>Paris</td>\n",
       "      <td>debutant</td>\n",
       "      <td>2</td>\n",
       "      <td>2</td>\n",
       "      <td>Data scientist</td>\n",
       "    </tr>\n",
       "    <tr>\n",
       "      <th>7091</th>\n",
       "      <td>KPMG</td>\n",
       "      <td>NaN</td>\n",
       "      <td>SAS/Teradata/SQL/R/Python/Machine learning/Ang...</td>\n",
       "      <td>Master</td>\n",
       "      <td>0.0</td>\n",
       "      <td>Marseille</td>\n",
       "      <td>debutant</td>\n",
       "      <td>12</td>\n",
       "      <td>1</td>\n",
       "      <td>Data scientist</td>\n",
       "    </tr>\n",
       "    <tr>\n",
       "      <th>7228</th>\n",
       "      <td>Environmental Defense Fund</td>\n",
       "      <td>NaN</td>\n",
       "      <td>Map-Reduce/HDFS/PIG/HBASE/Python/Cassandra</td>\n",
       "      <td>Master</td>\n",
       "      <td>2.5</td>\n",
       "      <td>Bordeaux</td>\n",
       "      <td>confirmé</td>\n",
       "      <td>5</td>\n",
       "      <td>1</td>\n",
       "      <td>Data engineer</td>\n",
       "    </tr>\n",
       "    <tr>\n",
       "      <th>7330</th>\n",
       "      <td>Turner</td>\n",
       "      <td>NaN</td>\n",
       "      <td>Excel/Python/Matlab/R/machine learning/anglais</td>\n",
       "      <td>Phd</td>\n",
       "      <td>0.5</td>\n",
       "      <td>Lyon</td>\n",
       "      <td>debutant</td>\n",
       "      <td>1</td>\n",
       "      <td>3</td>\n",
       "      <td>Data engineer</td>\n",
       "    </tr>\n",
       "    <tr>\n",
       "      <th>9087</th>\n",
       "      <td>Klein Hersh International</td>\n",
       "      <td>NaN</td>\n",
       "      <td>Hadoop/Hive/Vertica/Tableau</td>\n",
       "      <td>No diploma</td>\n",
       "      <td>3.5</td>\n",
       "      <td>Paris</td>\n",
       "      <td>confirmé</td>\n",
       "      <td>2</td>\n",
       "      <td>2</td>\n",
       "      <td>Data scientist</td>\n",
       "    </tr>\n",
       "    <tr>\n",
       "      <th>9427</th>\n",
       "      <td>McKinsey &amp; Company</td>\n",
       "      <td>NaN</td>\n",
       "      <td>Python/R/machine learning/Excel/VBA/C++</td>\n",
       "      <td>Master</td>\n",
       "      <td>1.0</td>\n",
       "      <td>Marseille</td>\n",
       "      <td>debutant</td>\n",
       "      <td>8</td>\n",
       "      <td>1</td>\n",
       "      <td>Data scientist</td>\n",
       "    </tr>\n",
       "    <tr>\n",
       "      <th>9490</th>\n",
       "      <td>Pearson</td>\n",
       "      <td>NaN</td>\n",
       "      <td>R/Python/Spark/Pycharm/SAS/SQL</td>\n",
       "      <td>Master</td>\n",
       "      <td>4.0</td>\n",
       "      <td>Marseille</td>\n",
       "      <td>confirmé</td>\n",
       "      <td>11</td>\n",
       "      <td>1</td>\n",
       "      <td>Data scientist</td>\n",
       "    </tr>\n",
       "  </tbody>\n",
       "</table>\n",
       "</div>"
      ],
      "text/plain": [
       "                      Entreprise Metier  \\\n",
       "346                       Jacobs    NaN   \n",
       "2058              Ball Aerospace    NaN   \n",
       "2670                  eHire, LLC    NaN   \n",
       "2899       Norfolk Southern Corp    NaN   \n",
       "3346       J.E. Ranta Associates    NaN   \n",
       "4248                        KPMG    NaN   \n",
       "4290         Pandora Media, Inc.    NaN   \n",
       "4292    Partners HealthCare(PHS)    NaN   \n",
       "5425           Ashton Lane Group    NaN   \n",
       "5593     Lighthouse Lab Services    NaN   \n",
       "5712              Ball Aerospace    NaN   \n",
       "6024                      Leidos    NaN   \n",
       "6625              Ball Aerospace    NaN   \n",
       "7091                        KPMG    NaN   \n",
       "7228  Environmental Defense Fund    NaN   \n",
       "7330                      Turner    NaN   \n",
       "9087   Klein Hersh International    NaN   \n",
       "9427          McKinsey & Company    NaN   \n",
       "9490                     Pearson    NaN   \n",
       "\n",
       "                                           Technologies     Diplome  \\\n",
       "346                              Python/Spark/GNU/Linux  No diploma   \n",
       "2058                                 VBA/Python/Excel/R      Master   \n",
       "2670                                Java/C/C++/R/Python      Master   \n",
       "2899     Python/Tensorflow/scikit-learn/Deep learning/R         Phd   \n",
       "3346                        Cassandra/MongoDB/NoSQL/AWS      Master   \n",
       "4248                       Python/Microsoft Azure/R/SQL         Phd   \n",
       "4290  SAS/Teradata/SQL/R/Python/Machine learning/Ang...         Phd   \n",
       "4292  SAS/Teradata/SQL/R/Python/Machine learning/Ang...      Master   \n",
       "5425                               Python/Pyspark/Spark  No diploma   \n",
       "5593            Python/R/machine learning/Excel/VBA/C++      Master   \n",
       "5712                        Hadoop/Hive/Vertica/Tableau    Bachelor   \n",
       "6024                      Linux/Python/Hadoop/Perl/Ruby      Master   \n",
       "6625                        Hadoop/Hive/Vertica/Tableau  No diploma   \n",
       "7091  SAS/Teradata/SQL/R/Python/Machine learning/Ang...      Master   \n",
       "7228         Map-Reduce/HDFS/PIG/HBASE/Python/Cassandra      Master   \n",
       "7330     Excel/Python/Matlab/R/machine learning/anglais         Phd   \n",
       "9087                        Hadoop/Hive/Vertica/Tableau  No diploma   \n",
       "9427            Python/R/machine learning/Excel/VBA/C++      Master   \n",
       "9490                     R/Python/Spark/Pycharm/SAS/SQL      Master   \n",
       "\n",
       "      Experience      Ville Exp_label  Technologies_enc  Diplome_enc  \\\n",
       "346          2.5      Paris  confirmé                 9            2   \n",
       "2058        15.0       Lyon    expert                13            1   \n",
       "2670         1.5   Toulouse  confirmé                 3            1   \n",
       "2899         0.0   Grenoble  debutant                10            3   \n",
       "3346         7.0     Rennes    avancé                 0            1   \n",
       "4248         2.0       Lyon  confirmé                 6            3   \n",
       "4290         1.5   Toulouse  confirmé                12            3   \n",
       "4292         8.0   Bordeaux    avancé                12            1   \n",
       "5425         5.0       Lyon    avancé                 7            2   \n",
       "5593         3.0       Lyon  confirmé                 8            1   \n",
       "5712         3.0      Paris  confirmé                 2            0   \n",
       "6024         1.5       Lyon  confirmé                 4            1   \n",
       "6625         0.0      Paris  debutant                 2            2   \n",
       "7091         0.0  Marseille  debutant                12            1   \n",
       "7228         2.5   Bordeaux  confirmé                 5            1   \n",
       "7330         0.5       Lyon  debutant                 1            3   \n",
       "9087         3.5      Paris  confirmé                 2            2   \n",
       "9427         1.0  Marseille  debutant                 8            1   \n",
       "9490         4.0  Marseille  confirmé                11            1   \n",
       "\n",
       "        Prediction_Metier  \n",
       "346        Data scientist  \n",
       "2058       Data scientist  \n",
       "2670      Data architecte  \n",
       "2899       Data scientist  \n",
       "3346        Data engineer  \n",
       "4248       Data scientist  \n",
       "4290       Data scientist  \n",
       "4292  Lead data scientist  \n",
       "5425      Data architecte  \n",
       "5593       Data scientist  \n",
       "5712       Data scientist  \n",
       "6024      Data architecte  \n",
       "6625       Data scientist  \n",
       "7091       Data scientist  \n",
       "7228        Data engineer  \n",
       "7330        Data engineer  \n",
       "9087       Data scientist  \n",
       "9427       Data scientist  \n",
       "9490       Data scientist  "
      ]
     },
     "execution_count": 82,
     "metadata": {},
     "output_type": "execute_result"
    }
   ],
   "source": [
    "#prediction des metiers manquants\n",
    "#separation des variables et labels\n",
    "\n",
    "X_manquant = candidats_sans_metier[['Technologies_enc','Diplome_enc','Experience']]\n",
    "\n",
    "# Mettre tous les features dans la même échelle\n",
    "X_manquant = StandardScaler().fit_transform(X_manquant)\n",
    "candidats_sans_metier[\"Prediction_Metier\"] = models_objects['dtree'].predict(X_manquant) #models_objects['dtree'] contient le model de dtree entrainé précédement\n",
    "candidats_sans_metier"
   ]
  },
  {
   "cell_type": "markdown",
   "metadata": {},
   "source": [
    "**8-b) Interpréter votre résultat**  \n",
    "Parmi les trois algorithmes que nous avons évalués, l'arbre de décision a affiché la meilleure accuracy sur le dataset de train. Toutefois, la précision sur l'ensemble de test est légèrement inférieure à celle du dataset de test.\n",
    "\n",
    "Néanmoins, lorsqu'on examine les prédictions faites pour les métiers manquants, on observe que le modèle effectue un travail assez satisfaisant. En se basant sur notre expertise, certains éléments de compétences correspondent clairement à celles d'un Data Engineer, et le modèle a correctement étiqueté ce métier :\n",
    "\n",
    "- Cassandra/MongoDB/NoSQL/AWS\n",
    "- Map-Reduce/HDFS/PIG/HBASE/Python/Cassandra\n",
    "\n",
    "Ces compétences ont été convenablement associées au profil de Data Engineer par le modèle, ce qui suggère une capacité adéquate du modèle à identifier des caractéristiques spécifiques aux différents métiers.\n"
   ]
  },
  {
   "cell_type": "markdown",
   "metadata": {},
   "source": [
    "Aussi, en se basant sur notre \"expertise\" par exemples les compétences suivantes correspondent bien  à celle d'un Data scientist et le métier a été correctement labelisé: \n",
    "\n",
    "- Python/R/machine learning/Excel/VBA/C++ \n",
    "- SAS/Teradata/SQL/R/Python/Machine learning/Ang..\n",
    "- Python/Tensorflow/scikit-learn/Deep learning/R\t\n"
   ]
  },
  {
   "cell_type": "markdown",
   "metadata": {},
   "source": [
    "En outre, en se basant sur notre \"expertise\" par exemples les compétences suivantes correspondent bien  à celle d'un Data architecte et le métier a été correctement labelisé: \n",
    "\n",
    "- Linux/Python/Hadoop/Perl/Ruby "
   ]
  },
  {
   "cell_type": "markdown",
   "metadata": {},
   "source": [
    "**Merci pour votre temps !!!**"
   ]
  }
 ],
 "metadata": {
  "kernelspec": {
   "display_name": "Python 3",
   "language": "python",
   "name": "python3"
  },
  "language_info": {
   "codemirror_mode": {
    "name": "ipython",
    "version": 3
   },
   "file_extension": ".py",
   "mimetype": "text/x-python",
   "name": "python",
   "nbconvert_exporter": "python",
   "pygments_lexer": "ipython3",
   "version": "3.8.0"
  }
 },
 "nbformat": 4,
 "nbformat_minor": 2
}
