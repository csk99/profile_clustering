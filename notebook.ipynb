{
 "cells": [
  {
   "cell_type": "code",
   "execution_count": 17,
   "metadata": {},
   "outputs": [],
   "source": [
    "# Import packages\n",
    "import numpy as np\n",
    "import pandas as pd\n",
    "import seaborn as sns\n",
    "import matplotlib.pyplot as plt\n",
    "import warnings\n",
    "from sklearn.preprocessing import LabelEncoder\n",
    "warnings.filterwarnings(action='ignore')  "
   ]
  },
  {
   "cell_type": "code",
   "execution_count": 18,
   "metadata": {},
   "outputs": [],
   "source": [
    "# reading the dataset\n",
    "path    = \"./dataset/data.csv\"\n",
    "\n",
    "profiles_df = pd.read_csv(path)\n"
   ]
  },
  {
   "cell_type": "code",
   "execution_count": 19,
   "metadata": {},
   "outputs": [
    {
     "data": {
      "text/html": [
       "<div>\n",
       "<style scoped>\n",
       "    .dataframe tbody tr th:only-of-type {\n",
       "        vertical-align: middle;\n",
       "    }\n",
       "\n",
       "    .dataframe tbody tr th {\n",
       "        vertical-align: top;\n",
       "    }\n",
       "\n",
       "    .dataframe thead th {\n",
       "        text-align: right;\n",
       "    }\n",
       "</style>\n",
       "<table border=\"1\" class=\"dataframe\">\n",
       "  <thead>\n",
       "    <tr style=\"text-align: right;\">\n",
       "      <th></th>\n",
       "      <th>Company</th>\n",
       "      <th>Profile</th>\n",
       "      <th>Technologies</th>\n",
       "      <th>Diploma</th>\n",
       "      <th>Experience</th>\n",
       "      <th>City</th>\n",
       "    </tr>\n",
       "  </thead>\n",
       "  <tbody>\n",
       "    <tr>\n",
       "      <th>0</th>\n",
       "      <td>Sanofi</td>\n",
       "      <td>Data scientist</td>\n",
       "      <td>Matlab/Python/Pyspark/Scikit-learn/Tensorflow</td>\n",
       "      <td>Master</td>\n",
       "      <td>1</td>\n",
       "      <td>Paris</td>\n",
       "    </tr>\n",
       "    <tr>\n",
       "      <th>1</th>\n",
       "      <td>Massachusetts General Hospital(MGH)</td>\n",
       "      <td>Data architecte</td>\n",
       "      <td>Python/Java/Scala/MongoDB</td>\n",
       "      <td>Master</td>\n",
       "      <td>3</td>\n",
       "      <td>Marseille</td>\n",
       "    </tr>\n",
       "    <tr>\n",
       "      <th>2</th>\n",
       "      <td>Delve</td>\n",
       "      <td>Lead data scientist</td>\n",
       "      <td>SPSS/SQL/Teradata/R/Python/Tensorflow/scikit-l...</td>\n",
       "      <td>Master</td>\n",
       "      <td>3</td>\n",
       "      <td>Nantes</td>\n",
       "    </tr>\n",
       "    <tr>\n",
       "      <th>3</th>\n",
       "      <td>Ann &amp; Robert H. Lurie Children’s Hospital of C...</td>\n",
       "      <td>Data scientist</td>\n",
       "      <td>C/C++/Java/Python</td>\n",
       "      <td>Master</td>\n",
       "      <td>1,5</td>\n",
       "      <td>Marseille</td>\n",
       "    </tr>\n",
       "    <tr>\n",
       "      <th>4</th>\n",
       "      <td>Arm</td>\n",
       "      <td>Data scientist</td>\n",
       "      <td>Matlab/Python/C++/numpy/Tensorflow/scikit-learn</td>\n",
       "      <td>Phd</td>\n",
       "      <td>NaN</td>\n",
       "      <td>Bordeaux</td>\n",
       "    </tr>\n",
       "  </tbody>\n",
       "</table>\n",
       "</div>"
      ],
      "text/plain": [
       "                                             Company              Profile  \\\n",
       "0                                             Sanofi       Data scientist   \n",
       "1                Massachusetts General Hospital(MGH)      Data architecte   \n",
       "2                                              Delve  Lead data scientist   \n",
       "3  Ann & Robert H. Lurie Children’s Hospital of C...       Data scientist   \n",
       "4                                                Arm       Data scientist   \n",
       "\n",
       "                                        Technologies Diploma Experience  \\\n",
       "0      Matlab/Python/Pyspark/Scikit-learn/Tensorflow  Master          1   \n",
       "1                          Python/Java/Scala/MongoDB  Master          3   \n",
       "2  SPSS/SQL/Teradata/R/Python/Tensorflow/scikit-l...  Master          3   \n",
       "3                                  C/C++/Java/Python  Master        1,5   \n",
       "4    Matlab/Python/C++/numpy/Tensorflow/scikit-learn     Phd        NaN   \n",
       "\n",
       "        City  \n",
       "0      Paris  \n",
       "1  Marseille  \n",
       "2     Nantes  \n",
       "3  Marseille  \n",
       "4   Bordeaux  "
      ]
     },
     "execution_count": 19,
     "metadata": {},
     "output_type": "execute_result"
    }
   ],
   "source": [
    "#getting an overview of the data\n",
    "profiles_df.head()"
   ]
  },
  {
   "cell_type": "code",
   "execution_count": 20,
   "metadata": {},
   "outputs": [
    {
     "name": "stdout",
     "output_type": "stream",
     "text": [
      "<class 'pandas.core.frame.DataFrame'>\n",
      "RangeIndex: 9582 entries, 0 to 9581\n",
      "Data columns (total 6 columns):\n",
      " #   Column        Non-Null Count  Dtype \n",
      "---  ------        --------------  ----- \n",
      " 0   Company       9565 non-null   object\n",
      " 1   Profile       9563 non-null   object\n",
      " 2   Technologies  9582 non-null   object\n",
      " 3   Diploma       9582 non-null   object\n",
      " 4   Experience    9488 non-null   object\n",
      " 5   City          9582 non-null   object\n",
      "dtypes: object(6)\n",
      "memory usage: 449.3+ KB\n"
     ]
    }
   ],
   "source": [
    "#priting some summary stats about the data\n",
    "profiles_df.info()"
   ]
  },
  {
   "cell_type": "markdown",
   "metadata": {},
   "source": [
    "Observations made so far:\n",
    "* Variable experience is a string, but it's supposed to be an integer. Moreover, some float values are expressed with \",\" but they are supposed to be with \".\"\n",
    "* We have some missing values in the columns Experience, Company, Profile "
   ]
  },
  {
   "cell_type": "code",
   "execution_count": 21,
   "metadata": {},
   "outputs": [
    {
     "data": {
      "text/plain": [
       "Company          object\n",
       "Profile          object\n",
       "Technologies     object\n",
       "Diploma          object\n",
       "Experience      float64\n",
       "City             object\n",
       "dtype: object"
      ]
     },
     "execution_count": 21,
     "metadata": {},
     "output_type": "execute_result"
    }
   ],
   "source": [
    "# format properly the wrong typed floats\n",
    "profiles_df['Experience'] = profiles_df['Experience'].\\\n",
    "    apply(lambda x: float(x.replace(',','.')) if ',' in str(x) else float(x))\n",
    "\n",
    "# checking the results\n",
    "profiles_df.dtypes\n"
   ]
  },
  {
   "cell_type": "markdown",
   "metadata": {},
   "source": [
    "**1 -a) How many observations in the dataset?**"
   ]
  },
  {
   "cell_type": "code",
   "execution_count": 22,
   "metadata": {},
   "outputs": [
    {
     "name": "stdout",
     "output_type": "stream",
     "text": [
      " This dataset has 9582 observations\n"
     ]
    }
   ],
   "source": [
    "print(f\" This dataset has {profiles_df.shape[0]} observations\")\n"
   ]
  },
  {
   "cell_type": "markdown",
   "metadata": {},
   "source": [
    "**1 -b )Are there missing values ?**"
   ]
  },
  {
   "cell_type": "code",
   "execution_count": 23,
   "metadata": {},
   "outputs": [
    {
     "data": {
      "text/plain": [
       "Company       17\n",
       "Profile       19\n",
       "Experience    94\n",
       "dtype: int64"
      ]
     },
     "execution_count": 23,
     "metadata": {},
     "output_type": "execute_result"
    }
   ],
   "source": [
    "profiles_df.isna().sum(axis=0)[profiles_df.isna().sum(axis=0) !=0]"
   ]
  },
  {
   "cell_type": "markdown",
   "metadata": {},
   "source": [
    "**Yes,** the columns **\"Entreprise\", \"Metier\" et \"Experience\"** have missing values"
   ]
  },
  {
   "cell_type": "markdown",
   "metadata": {},
   "source": [
    "**2) Imputation of missing values for the  \"Experience\" variable for each profile type :**                          \n"
   ]
  },
  {
   "cell_type": "code",
   "execution_count": 24,
   "metadata": {},
   "outputs": [
    {
     "data": {
      "text/plain": [
       "Profile\n",
       "Data scientist         32\n",
       "Data architecte        23\n",
       "Data engineer          20\n",
       "Lead data scientist    19\n",
       "Name: count, dtype: int64"
      ]
     },
     "execution_count": 24,
     "metadata": {},
     "output_type": "execute_result"
    }
   ],
   "source": [
    "profiles_df_exp_na =  profiles_df['Experience'].isna() #mask for na values in the profile column\n",
    "profiles_df.iloc[profiles_df['Experience'][profiles_df_exp_na].index]['Profile'].value_counts()"
   ]
  },
  {
   "cell_type": "markdown",
   "metadata": {},
   "source": [
    "**2 -a) Impute missing values by median value for data scientists**"
   ]
  },
  {
   "cell_type": "code",
   "execution_count": 25,
   "metadata": {},
   "outputs": [],
   "source": [
    "ds_median_exp = profiles_df.loc[(profiles_df[\"Profile\"]==\"Data scientist\") ,\"Experience\"].mean()\n",
    "profiles_df.loc[(profiles_df[\"Profile\"]==\"Data scientist\") \n",
    "                & (profiles_df['Experience'].isna()),\"Experience\"] = ds_median_exp"
   ]
  },
  {
   "cell_type": "markdown",
   "metadata": {},
   "source": [
    "**2 -b)  Impute missing values by median value for data engineer**"
   ]
  },
  {
   "cell_type": "code",
   "execution_count": 26,
   "metadata": {},
   "outputs": [],
   "source": [
    "de_mean_exp = profiles_df.loc[(profiles_df[\"Profile\"]==\"Data engineer\") ,\"Experience\"].mean()\n",
    "profiles_df.loc[(profiles_df[\"Profile\"]==\"Data engineer\") \n",
    "                & (profiles_df['Experience'].isna()),\"Experience\"] = de_mean_exp"
   ]
  },
  {
   "cell_type": "markdown",
   "metadata": {},
   "source": [
    "**2 -c)  Impute missing values by mean value for Lead Data scientist**"
   ]
  },
  {
   "cell_type": "code",
   "execution_count": 27,
   "metadata": {},
   "outputs": [],
   "source": [
    "lds_mean_exp = profiles_df.loc[(profiles_df[\"Profile\"]==\"Lead data scientist\") ,\"Experience\"].mean()\n",
    "profiles_df.loc[(profiles_df[\"Profile\"]==\"Lead data scientist\") \n",
    "                & (profiles_df['Experience'].isna()),\"Experience\"] = lds_mean_exp"
   ]
  },
  {
   "cell_type": "markdown",
   "metadata": {},
   "source": [
    "**2 -d)  Impute missing values by mean value for Data arhcitecte**"
   ]
  },
  {
   "cell_type": "code",
   "execution_count": 28,
   "metadata": {},
   "outputs": [],
   "source": [
    "da_mean_exp = profiles_df.loc[(profiles_df[\"Profile\"]==\"Data architecte\") ,\"Experience\"].mean()\n",
    "profiles_df.loc[(profiles_df[\"Profile\"]==\"Data architecte\") \n",
    "                & (profiles_df['Experience'].isna()),\"Experience\"] = da_mean_exp"
   ]
  },
  {
   "cell_type": "code",
   "execution_count": 29,
   "metadata": {},
   "outputs": [
    {
     "data": {
      "text/plain": [
       "Series([], Name: count, dtype: int64)"
      ]
     },
     "execution_count": 29,
     "metadata": {},
     "output_type": "execute_result"
    }
   ],
   "source": [
    "#Checking the results\n",
    "profiles_df.iloc[profiles_df['Experience'][profiles_df['Experience'].isna()].index]['Profile'].value_counts()\n"
   ]
  },
  {
   "cell_type": "markdown",
   "metadata": {},
   "source": [
    "**3) What's the average years of experience for each profile ?**"
   ]
  },
  {
   "cell_type": "code",
   "execution_count": 30,
   "metadata": {},
   "outputs": [
    {
     "name": "stdout",
     "output_type": "stream",
     "text": [
      "The Data architecte has an average 3.00 years of  experience\n",
      "The Data engineer has an average 2.98 years of  experience\n",
      "The Data scientist has an average 2.24 years of  experience\n",
      "The Lead data scientist has an average 3.97 years of  experience\n"
     ]
    }
   ],
   "source": [
    "# Calcul de la moyenne des années d'expérience pour chaque profil sélectionné\n",
    "experiences = dict(profiles_df[['Profile', \"Experience\"]].groupby(\"Profile\").mean()['Experience'])\n",
    "\n",
    "# Affichage de la moyenne des années d'expérience pour chaque profil\n",
    "for profile in experiences:\n",
    "    print(f\"The {profile} has an average {experiences[profile]:.2f} years of  experience\")\n"
   ]
  },
  {
   "cell_type": "code",
   "execution_count": 31,
   "metadata": {},
   "outputs": [
    {
     "data": {
      "image/png": "[encoded data removed]",
      "text/plain": [
       "<Figure size 800x800 with 1 Axes>"
      ]
     },
     "metadata": {},
     "output_type": "display_data"
    }
   ],
   "source": [
    "plt.figure(figsize=(8, 8))\n",
    "ax = sns.barplot(x=list(experiences.keys()), y=list(experiences.values()),palette=\"tab10\") \n",
    "for i in ax.containers:\n",
    "    ax.bar_label(i);"
   ]
  },
  {
   "cell_type": "markdown",
   "metadata": {},
   "source": [
    "**6) WHat's the top 5 most represented Technologies among profiles ?**"
   ]
  },
  {
   "cell_type": "code",
   "execution_count": 32,
   "metadata": {},
   "outputs": [
    {
     "data": {
      "image/png": "[encoded data removed]",
      "text/plain": [
       "<Figure size 800x800 with 1 Axes>"
      ]
     },
     "metadata": {},
     "output_type": "display_data"
    }
   ],
   "source": [
    "top_tech = dict(\n",
    "    profiles_df[\"Technologies\"]\n",
    "    .str.split('/', expand=True)\n",
    "    .stack()\n",
    "    .value_counts()\n",
    "    .sort_values(ascending=False)[:5]\n",
    ")\n",
    "plt.figure(figsize=(8, 8))\n",
    "ax = sns.barplot(y=list(top_tech.keys()), x=list(top_tech.values()),palette='viridis')\n",
    "for i in ax.containers:\n",
    "    ax.bar_label(i);\n"
   ]
  },
  {
   "cell_type": "markdown",
   "metadata": {},
   "source": [
    "7-1) Feature engineering and processing\n",
    "We will try to create some new features to enrich our dataset.Those features are:\n",
    "* pluridisciplinarity: This new feature try to take into condiseration the number of technologies a candidate master, or present in his resumé\n",
    "* top 10 skills: This new feature checks counts the number of skills that are among the top 10 skills required for his role.\n",
    "**Note:** Since we have 4 distincts profiles we will create 4 new columns."
   ]
  },
  {
   "cell_type": "code",
   "execution_count": null,
   "metadata": {},
   "outputs": [],
   "source": [
    "top10skills_ds = [\"python\",\"sql\",\"r\",\"mysql\",\"scikit-learn\",\"tensorflow\",\"deep learning\",\"machine learning\",\"powerbi\"]\n",
    "top10skills_de = [\"python\",\"sql\",\"python\",\"hadoop\",\"aws\",\"azure\",\"gcp\"]\n",
    "top10skills_da = [\"python\",\"c\",\"azure\",\"java\",\"hadoop\",\"aws\",\"gcp\",\"oracle\",\"\"]"
   ]
  },
  {
   "cell_type": "code",
   "execution_count": null,
   "metadata": {},
   "outputs": [],
   "source": [
    "profiles_df['pluridisciplinarity'] = profiles_df[\"Technologies\"].apply(lambda s:len(s.split(\"/\")))\n"
   ]
  },
  {
   "cell_type": "markdown",
   "metadata": {},
   "source": [
    "7-2) Feature encoding\n",
    "We are meanly focused on encoding important string variables like Technologies,Diploma.\n",
    "* Diploma: This variable has 4 values Master, PhD, Bachelor, No diploma.\n",
    "We will encode them, in as ordinal variables with from 3 to 0 (PhD to No diploma).\n",
    "The idea here is that for most of the profiles, having a degree increases your chances to get it.\n",
    "\n"
   ]
  },
  {
   "cell_type": "code",
   "execution_count": 60,
   "metadata": {},
   "outputs": [],
   "source": [
    "diploma_to_encoding = {\n",
    "    \"Phd\":3,\n",
    "    \"Master\":2,\n",
    "    \"Bachelor\":1,\n",
    "    \"No diploma\":0\n",
    "}\n",
    "profiles_df['diploma_encoding'] = profiles_df['Diploma'].apply(lambda diploma:diploma_to_encoding[diploma] )"
   ]
  },
  {
   "cell_type": "markdown",
   "metadata": {},
   "source": []
  },
  {
   "cell_type": "code",
   "execution_count": 57,
   "metadata": {},
   "outputs": [
    {
     "data": {
      "text/plain": [
       "Diploma\n",
       "Master        4971\n",
       "Phd           2258\n",
       "Bachelor      1392\n",
       "No diploma     961\n",
       "Name: count, dtype: int64"
      ]
     },
     "execution_count": 57,
     "metadata": {},
     "output_type": "execute_result"
    }
   ],
   "source": [
    "profiles_df.Diploma.value_counts()"
   ]
  },
  {
   "cell_type": "code",
   "execution_count": 15,
   "metadata": {},
   "outputs": [
    {
     "data": {
      "text/plain": [
       "array([[1.]])"
      ]
     },
     "execution_count": 15,
     "metadata": {},
     "output_type": "execute_result"
    }
   ],
   "source": [
    "from sklearn.feature_extraction.text import TfidfVectorizer\n",
    "vectorizer = TfidfVectorizer()\n",
    "vectorizer.fit_transform('poooo'.split('/')).toarray()"
   ]
  },
  {
   "cell_type": "markdown",
   "metadata": {},
   "source": [
    "**7) Réaliser une méthode de clustering non supervisée de votre choix pour faire\n",
    "apparaître le nombre de clusters que vous jugerez pertinents. Donnez les\n",
    "caractéristiques de chacun des clusters.              \n",
    "a) Justifier le nombre de clusters**\n"
   ]
  },
  {
   "cell_type": "markdown",
   "metadata": {},
   "source": [
    "Parmi les méthodes de clusterings, qui existent nous avons choisi d'implemter la méthode **KMEANS** car:\n",
    "\n",
    "- facile à implémenter et interpréter \n",
    "- Peut gérer les données de haute dimension\n"
   ]
  },
  {
   "cell_type": "markdown",
   "metadata": {},
   "source": [
    "Avant de passer à la modélisation, il est important de préparer les données.\n",
    "Il s'agira en autre de :\n",
    "\n",
    "- Encoder les valeurs non-numériques (Technologies, Diplome) avec Label Encoder (Approche N°1) Puis One Hot Encoder (Approche N°2)</li>\n",
    "-  Supprimer les colonnes non pertinentes\n",
    "-  Normaliser les données (avec standardscaler)\n",
    "-  Choisir le nombre de cluster (Méthode du coude) \n",
    "-  Entrainer et tester le modèle avec le nombre choisi précédemment \n"
   ]
  },
  {
   "cell_type": "markdown",
   "metadata": {},
   "source": [
    "Nous utilisons la méthode du coude (Elbow Method en anglais), afin de déterminer le nombre de cluster.   \n",
    "En effet, elle est très simple et permet de trouver de façon intituitive (graphique) le nombre approprié de clusters"
   ]
  },
  {
   "cell_type": "markdown",
   "metadata": {},
   "source": [
    "**Approche N°1**"
   ]
  },
  {
   "cell_type": "code",
   "execution_count": 73,
   "metadata": {},
   "outputs": [
    {
     "name": "stdout",
     "output_type": "stream",
     "text": [
      "La BD a les caractéristiques suivantes : (9582, 3)\n"
     ]
    },
    {
     "data": {
      "image/png": "[encoded data removed]",
      "text/plain": [
       "<Figure size 432x288 with 1 Axes>"
      ]
     },
     "metadata": {
      "needs_background": "light"
     },
     "output_type": "display_data"
    }
   ],
   "source": [
    "from sklearn.preprocessing import LabelEncoder, StandardScaler\n",
    "from sklearn.cluster import KMeans\n",
    "from sklearn.metrics import silhouette_score\n",
    "import matplotlib.pyplot as plt\n",
    "\n",
    "# Créer l'objet LabelEncoder\n",
    "labelencoder = LabelEncoder()\n",
    "\n",
    "# Encoder la variable diplome\n",
    "diplomes = labelencoder.fit_transform(candidats_imputer['Diplome'])\n",
    "\n",
    "# Encoder la variable technologies\n",
    "technologies = labelencoder.fit_transform(candidats_imputer['Technologies'])\n",
    "\n",
    "# Créer une copie de la BD\n",
    "data = candidats_imputer.copy()\n",
    "\n",
    "# Création des nouvelles variables résultant de ces encodages\n",
    "data['diplomes_enc'] = diplomes\n",
    "data['technologies_enc'] = technologies\n",
    "\n",
    "\n",
    "# Sélectionner les colonnes d'intérêt\n",
    "variables = ['diplomes_enc','technologies_enc', 'Experience']\n",
    "data = data[variables]\n",
    "\n",
    "\n",
    "\n",
    "# Mettre tous les features dans la même échelle\n",
    "X = StandardScaler().fit_transform(data)\n",
    "\n",
    "print(f\"La BD a les caractéristiques suivantes : {X.shape}\")\n",
    "# Méthode du coude\n",
    "sum_of_square_distance = {}\n",
    "\n",
    "# Tester plusieurs valeurs de clusters\n",
    "for k in range(1, 10):\n",
    "    # Entraîner l'algorithme KMeans pour cette valeur de k\n",
    "    # Random_state pour la reproductibilité du code\n",
    "    kmeans = KMeans(n_clusters=k, max_iter=1000, random_state=k).fit(X)\n",
    "    sum_of_square_distance[k] = kmeans.inertia_\n",
    "\n",
    "# Afficher la courbe du nombre de clusters en fonction de la somme des distances au carré\n",
    "plt.plot(list(sum_of_square_distance.keys()), list(sum_of_square_distance.values()), color=\"b\")\n",
    "plt.xlabel(\"Nombre de clusters\")\n",
    "plt.ylabel(\"Somme des distances au carré\")\n",
    "plt.show()"
   ]
  },
  {
   "cell_type": "markdown",
   "metadata": {},
   "source": [
    "D'après le graphique précédent, nous choissons la valeur **4** comme nombre de cluster, car après 4 la  la somme des distance au carré ne diminue plus de façon significative.Ce qui correspond à la valeur attendue (car la BD contient 4 types de profiles)"
   ]
  },
  {
   "cell_type": "code",
   "execution_count": 74,
   "metadata": {},
   "outputs": [
    {
     "name": "stdout",
     "output_type": "stream",
     "text": [
      "Le score de silhouette = 0.3732462447155676\n",
      "The SSD = 11151.43\n"
     ]
    }
   ],
   "source": [
    "kmeans_l = KMeans(n_clusters=4, max_iter=1000,random_state=4).fit(X)\n",
    "silhouette_l = silhouette_score(X, labels=kmeans_l.labels_)\n",
    "ssd = kmeans_l.inertia_\n",
    "\n",
    "print(f\"Le score de silhouette = {silhouette_l}\")\n",
    "print(f\"The SSD = {ssd:.2f}\")\n"
   ]
  },
  {
   "cell_type": "markdown",
   "metadata": {},
   "source": [
    "**Approche N°2**"
   ]
  },
  {
   "cell_type": "code",
   "execution_count": 75,
   "metadata": {},
   "outputs": [
    {
     "name": "stdout",
     "output_type": "stream",
     "text": [
      "La BD a les caractéristiques suivantes : (9582, 62)\n"
     ]
    },
    {
     "data": {
      "text/plain": [
       "<Figure size 1600x1600 with 0 Axes>"
      ]
     },
     "metadata": {},
     "output_type": "display_data"
    },
    {
     "data": {
      "image/png": "[encoded data removed]",
      "text/plain": [
       "<Figure size 432x288 with 1 Axes>"
      ]
     },
     "metadata": {
      "needs_background": "light"
     },
     "output_type": "display_data"
    }
   ],
   "source": [
    "# Encoder les variables de type str(object) grâce au One Hot Encoding\n",
    "data_one_hot = candidats_imputer.copy()\n",
    "diplomes_one = data_one_hot[\"Diplome\"].str.get_dummies()\n",
    "technologies_one = data_one_hot[\"Technologies\"].str.get_dummies()\n",
    "\n",
    "\n",
    "#concater les résultats et obtention de la BD de train\n",
    "data_one_hot = pd.concat([data_one_hot['Experience'], diplomes_one, technologies_one], axis=1)\n",
    "\n",
    "print(f\"La BD a les caractéristiques suivantes : {data_one_hot.shape}\")\n",
    "\n",
    "sum_of_square_distance = {}\n",
    "\n",
    "for k in range(1, 10):\n",
    "    kmeans = KMeans(n_clusters=k, max_iter=1000, random_state=k).fit(data_one_hot)\n",
    "    sum_of_square_distance[k] = kmeans.inertia_\n",
    "\n",
    "plt.figure(figsize=(8, 8), dpi=200)\n",
    "fig, ax = plt.subplots()\n",
    "ax.plot(list(sum_of_square_distance.keys()), list(sum_of_square_distance.values()), color=\"b\")\n",
    "ax.set_xlabel(\"Nombre de clusters\")\n",
    "ax.set_ylabel(\"Somme des distances au carré\")\n",
    "plt.show()\n"
   ]
  },
  {
   "cell_type": "markdown",
   "metadata": {},
   "source": [
    "De même, d'après le graphique précédent, nous choissons la valeur <b>4</b> comme nombre de cluster, car après 4 la  la somme des distance au carré ne diminue plus de façon significative. Ce qui correspond à la valeur attendue (car la BD contient 4 types de profiles)"
   ]
  },
  {
   "cell_type": "code",
   "execution_count": 76,
   "metadata": {},
   "outputs": [
    {
     "name": "stdout",
     "output_type": "stream",
     "text": [
      "Le silhouette score  =  0.28822875139282567\n",
      "The SSD =  23347.526401192\n"
     ]
    }
   ],
   "source": [
    "kmeans_one = KMeans(n_clusters=4,max_iter=1000,random_state=4).fit(data_one_hot)\n",
    "print(f\"Le silhouette score  =  {silhouette_score(data_one_hot,labels=kmeans_one.labels_)}\")\n",
    "print(f\"The SSD =  {kmeans_one.inertia_}\")"
   ]
  },
  {
   "cell_type": "markdown",
   "metadata": {},
   "source": [
    "**b. Justifier la performance de votre algorithme grâce à une métrique.**"
   ]
  },
  {
   "cell_type": "markdown",
   "metadata": {},
   "source": [
    "Le tableau ci-dessous, résume les deux approches nous avons utilisés\n",
    "\\begin{array}{|c|c|c|c|}\n",
    "\\hline\n",
    "\\text{Methods} & \\text{Silhouette Score} & \\text{Somme des distances au carré} \\\\\n",
    "\\hline\n",
    "\\text{ONE Hot} & \\text{0.2882} & \\text{ 23,347.5264}  \\\\\n",
    "\\text{Label Encoder} & \\textbf{\\text{0.3733}} & \\textbf{\\text{ 11,129.77}}  \\\\\n",
    "\\hline\n",
    "\\end{array}\n",
    "\n"
   ]
  },
  {
   "cell_type": "markdown",
   "metadata": {},
   "source": [
    "La méthode One Hot crée  15 fois plus  variables supplémentaires  par rapport à la méthode LabelEncoder. En analysant les métriques calculées, on observe que la méthode LabelEncoder présente le meilleur score de silhouette et la somme la plus faible des carrés des distances par rapport aux centres des clusters. La valeur élevée de la somme des distances au carré en One hot peut s'expliquer par la haute dimensionalité (62) variables introduite par la méthode."
   ]
  },
  {
   "cell_type": "markdown",
   "metadata": {},
   "source": [
    "**7-c ) Interpréter votre résultat.**"
   ]
  },
  {
   "cell_type": "markdown",
   "metadata": {},
   "source": [
    "Conclusion :\n",
    "On peut conclure que l'algorithme K-Means a réalisé un travail satisfaisant en identifiant les 4 clusters (profils de Métiers) présents dans le jeu de données. Ce résultat est caractérisé par un coefficient de silhouette de **0.37** pour l'approche N°1, qui bien qu'inférieur à 0.5, reste néanmoins acceptable car il est supérieur à 0. Une valeur inférieure à cela indiquerait une capacité limitée du modèle à associer chaque point à un cluster de manière significative."
   ]
  },
  {
   "cell_type": "markdown",
   "metadata": {},
   "source": [
    "**8) Réaliser la prédiction des métiers manquants dans la base de données par\n",
    "l'algorithme de votre choix  \n",
    "a. Justifier la performance de votre algorithme grâce à une métrique.**"
   ]
  },
  {
   "cell_type": "code",
   "execution_count": 77,
   "metadata": {},
   "outputs": [],
   "source": [
    "def encodage_variable(data_to_encode, columns_to_encode, encoder=labelencoder):\n",
    "    \"\"\"\n",
    "    Encode les variables spécifiées dans un jeu de données.\n",
    "    \"\"\"\n",
    "    # Créer une copie de la base de données\n",
    "    data = data_to_encode.copy()\n",
    "\n",
    "    # Encoder les variables\n",
    "    for column in columns_to_encode:\n",
    "        # Encoder la variable spécifiée\n",
    "        result = encoder.fit_transform(data_to_encode[column])\n",
    "        data[column + '_enc'] = result\n",
    "\n",
    "    return data\n"
   ]
  },
  {
   "cell_type": "code",
   "execution_count": 78,
   "metadata": {},
   "outputs": [],
   "source": [
    "#preparation des données\n",
    "#séparation des candidats avec métiers et ceux sans\n",
    "candidats_sans_metier = candidats_imputer[candidats_imputer.Metier.isna()]\n",
    "candidats_avec_metier = candidats_imputer[~candidats_imputer.Metier.isna()]\n",
    "\n",
    "\n",
    "# Créer l'objet LabelEncoder\n",
    "labelencoder = LabelEncoder()\n",
    "#encodage des variables\n",
    "candidats_avec_metier = encodage_variable(candidats_avec_metier,['Technologies','Diplome'])\n",
    "candidats_sans_metier = encodage_variable(candidats_sans_metier,['Technologies','Diplome'])\n",
    "\n",
    "#separation des variables et labels\n",
    "Y = candidats_avec_metier['Metier']\n",
    "X = candidats_avec_metier[['Technologies_enc','Diplome_enc','Experience']]\n",
    "\n",
    "# Mettre tous les features dans la même échelle\n",
    "X = StandardScaler().fit_transform(X)\n",
    "\n",
    "#division de la BD en train et test \n",
    "from sklearn.model_selection import train_test_split\n",
    "X_train, X_test, y_train, y_test =train_test_split(X,Y,test_size=0.3,random_state=101)"
   ]
  },
  {
   "cell_type": "markdown",
   "metadata": {},
   "source": [
    "L'idée ici par la suite serait de tester plusieurs modèles de classification avec les paramètres par défaut,\n",
    "les comparer selon l'accuracy de train et choisir le meilleur que nous pourrons optimiser en changeant les hyper paramètres\n",
    "\n",
    "Nous nous interressons aux SVC, Decision Tree et KNN"
   ]
  },
  {
   "cell_type": "code",
   "execution_count": 79,
   "metadata": {},
   "outputs": [
    {
     "name": "stdout",
     "output_type": "stream",
     "text": [
      "L'accuracy de train du modèle svc est 0.5170301762772632\n",
      "L'accuracy de train du modèle knn est 0.8078876605915746\n",
      "L'accuracy de train du modèle dtree est 0.9262025694651927\n"
     ]
    }
   ],
   "source": [
    "# Importations \n",
    "from sklearn.tree import DecisionTreeClassifier\n",
    "from sklearn.svm import SVC\n",
    "from sklearn.neighbors import KNeighborsClassifier\n",
    "\n",
    "# Dictionnaire de modèles\n",
    "models = {'svc': SVC, \"knn\": KNeighborsClassifier, \"dtree\": DecisionTreeClassifier}\n",
    "models_objects = {}  # Contiendra les modèles (objets)\n",
    "accuracy_models = {}\n",
    "\n",
    "# Boucle pour entraîner et stocker les modèles, leurs accuracy\n",
    "for model_name, model_class in models.items():\n",
    "    clf = model_class()\n",
    "    clf.fit(X_train, y_train) \n",
    "    models_objects[model_name] = clf\n",
    "    accuracy_models[model_name] = clf.score(X_train, y_train)\n",
    "\n",
    "# Affichage des précisions des modèles\n",
    "for model, accuracy in accuracy_models.items():\n",
    "    print(f\"L'accuracy de train du modèle {model} est {accuracy}\")\n"
   ]
  },
  {
   "cell_type": "code",
   "execution_count": 80,
   "metadata": {},
   "outputs": [
    {
     "name": "stdout",
     "output_type": "stream",
     "text": [
      "L'accuracy test est 0.8769606134541652\n",
      "                     precision    recall  f1-score   support\n",
      "\n",
      "    Data architecte       0.99      0.97      0.98       645\n",
      "      Data engineer       1.00      1.00      1.00       671\n",
      "     Data scientist       0.83      0.88      0.86      1171\n",
      "Lead data scientist       0.58      0.48      0.53       382\n",
      "\n",
      "           accuracy                           0.88      2869\n",
      "          macro avg       0.85      0.83      0.84      2869\n",
      "       weighted avg       0.87      0.88      0.87      2869\n",
      "\n"
     ]
    }
   ],
   "source": [
    "from sklearn.metrics import accuracy_score, classification_report\n",
    "print(f\"L'accuracy test est {accuracy_score(y_test,models_objects['dtree'].predict(X_test))}\")\n",
    "print(classification_report(y_test,models_objects[\"dtree\"].predict(X_test)))"
   ]
  },
  {
   "cell_type": "code",
   "execution_count": 81,
   "metadata": {},
   "outputs": [
    {
     "data": {
      "text/plain": [
       "Data scientist         0.404162\n",
       "Data engineer          0.245425\n",
       "Data architecte        0.222001\n",
       "Lead data scientist    0.128412\n",
       "Name: Metier, dtype: float64"
      ]
     },
     "execution_count": 81,
     "metadata": {},
     "output_type": "execute_result"
    }
   ],
   "source": [
    "#pourcetage de métier dans la base de donnés\n",
    "Y.value_counts() / Y.shape"
   ]
  },
  {
   "cell_type": "markdown",
   "metadata": {},
   "source": [
    "À partir de l'analyse du rapport de classification, on constate que les métriques de précision, de rappel et de F1-score sont excellentes pour les classes Data architecte, Data engineer et Data scientist, atteignant même parfois les 100%. Cependant, les performances obtenues pour la classe Lead Data scientist sont relativement faibles. Cela pourrait être dû au fait que cette catégorie n'est pas suffisamment représentée dans la base de données, ne comptant que pour environ 13% de l'échantillon. (confère la cellule précédente)"
   ]
  },
  {
   "cell_type": "code",
   "execution_count": 82,
   "metadata": {},
   "outputs": [
    {
     "data": {
      "text/html": [
       "<div>\n",
       "<style scoped>\n",
       "    .dataframe tbody tr th:only-of-type {\n",
       "        vertical-align: middle;\n",
       "    }\n",
       "\n",
       "    .dataframe tbody tr th {\n",
       "        vertical-align: top;\n",
       "    }\n",
       "\n",
       "    .dataframe thead th {\n",
       "        text-align: right;\n",
       "    }\n",
       "</style>\n",
       "<table border=\"1\" class=\"dataframe\">\n",
       "  <thead>\n",
       "    <tr style=\"text-align: right;\">\n",
       "      <th></th>\n",
       "      <th>Entreprise</th>\n",
       "      <th>Metier</th>\n",
       "      <th>Technologies</th>\n",
       "      <th>Diplome</th>\n",
       "      <th>Experience</th>\n",
       "      <th>Ville</th>\n",
       "      <th>Exp_label</th>\n",
       "      <th>Technologies_enc</th>\n",
       "      <th>Diplome_enc</th>\n",
       "      <th>Prediction_Metier</th>\n",
       "    </tr>\n",
       "  </thead>\n",
       "  <tbody>\n",
       "    <tr>\n",
       "      <th>346</th>\n",
       "      <td>Jacobs</td>\n",
       "      <td>NaN</td>\n",
       "      <td>Python/Spark/GNU/Linux</td>\n",
       "      <td>No diploma</td>\n",
       "      <td>2.5</td>\n",
       "      <td>Paris</td>\n",
       "      <td>confirmé</td>\n",
       "      <td>9</td>\n",
       "      <td>2</td>\n",
       "      <td>Data scientist</td>\n",
       "    </tr>\n",
       "    <tr>\n",
       "      <th>2058</th>\n",
       "      <td>Ball Aerospace</td>\n",
       "      <td>NaN</td>\n",
       "      <td>VBA/Python/Excel/R</td>\n",
       "      <td>Master</td>\n",
       "      <td>15.0</td>\n",
       "      <td>Lyon</td>\n",
       "      <td>expert</td>\n",
       "      <td>13</td>\n",
       "      <td>1</td>\n",
       "      <td>Data scientist</td>\n",
       "    </tr>\n",
       "    <tr>\n",
       "      <th>2670</th>\n",
       "      <td>eHire, LLC</td>\n",
       "      <td>NaN</td>\n",
       "      <td>Java/C/C++/R/Python</td>\n",
       "      <td>Master</td>\n",
       "      <td>1.5</td>\n",
       "      <td>Toulouse</td>\n",
       "      <td>confirmé</td>\n",
       "      <td>3</td>\n",
       "      <td>1</td>\n",
       "      <td>Data architecte</td>\n",
       "    </tr>\n",
       "    <tr>\n",
       "      <th>2899</th>\n",
       "      <td>Norfolk Southern Corp</td>\n",
       "      <td>NaN</td>\n",
       "      <td>Python/Tensorflow/scikit-learn/Deep learning/R</td>\n",
       "      <td>Phd</td>\n",
       "      <td>0.0</td>\n",
       "      <td>Grenoble</td>\n",
       "      <td>debutant</td>\n",
       "      <td>10</td>\n",
       "      <td>3</td>\n",
       "      <td>Data scientist</td>\n",
       "    </tr>\n",
       "    <tr>\n",
       "      <th>3346</th>\n",
       "      <td>J.E. Ranta Associates</td>\n",
       "      <td>NaN</td>\n",
       "      <td>Cassandra/MongoDB/NoSQL/AWS</td>\n",
       "      <td>Master</td>\n",
       "      <td>7.0</td>\n",
       "      <td>Rennes</td>\n",
       "      <td>avancé</td>\n",
       "      <td>0</td>\n",
       "      <td>1</td>\n",
       "      <td>Data engineer</td>\n",
       "    </tr>\n",
       "    <tr>\n",
       "      <th>4248</th>\n",
       "      <td>KPMG</td>\n",
       "      <td>NaN</td>\n",
       "      <td>Python/Microsoft Azure/R/SQL</td>\n",
       "      <td>Phd</td>\n",
       "      <td>2.0</td>\n",
       "      <td>Lyon</td>\n",
       "      <td>confirmé</td>\n",
       "      <td>6</td>\n",
       "      <td>3</td>\n",
       "      <td>Data scientist</td>\n",
       "    </tr>\n",
       "    <tr>\n",
       "      <th>4290</th>\n",
       "      <td>Pandora Media, Inc.</td>\n",
       "      <td>NaN</td>\n",
       "      <td>SAS/Teradata/SQL/R/Python/Machine learning/Ang...</td>\n",
       "      <td>Phd</td>\n",
       "      <td>1.5</td>\n",
       "      <td>Toulouse</td>\n",
       "      <td>confirmé</td>\n",
       "      <td>12</td>\n",
       "      <td>3</td>\n",
       "      <td>Data scientist</td>\n",
       "    </tr>\n",
       "    <tr>\n",
       "      <th>4292</th>\n",
       "      <td>Partners HealthCare(PHS)</td>\n",
       "      <td>NaN</td>\n",
       "      <td>SAS/Teradata/SQL/R/Python/Machine learning/Ang...</td>\n",
       "      <td>Master</td>\n",
       "      <td>8.0</td>\n",
       "      <td>Bordeaux</td>\n",
       "      <td>avancé</td>\n",
       "      <td>12</td>\n",
       "      <td>1</td>\n",
       "      <td>Lead data scientist</td>\n",
       "    </tr>\n",
       "    <tr>\n",
       "      <th>5425</th>\n",
       "      <td>Ashton Lane Group</td>\n",
       "      <td>NaN</td>\n",
       "      <td>Python/Pyspark/Spark</td>\n",
       "      <td>No diploma</td>\n",
       "      <td>5.0</td>\n",
       "      <td>Lyon</td>\n",
       "      <td>avancé</td>\n",
       "      <td>7</td>\n",
       "      <td>2</td>\n",
       "      <td>Data architecte</td>\n",
       "    </tr>\n",
       "    <tr>\n",
       "      <th>5593</th>\n",
       "      <td>Lighthouse Lab Services</td>\n",
       "      <td>NaN</td>\n",
       "      <td>Python/R/machine learning/Excel/VBA/C++</td>\n",
       "      <td>Master</td>\n",
       "      <td>3.0</td>\n",
       "      <td>Lyon</td>\n",
       "      <td>confirmé</td>\n",
       "      <td>8</td>\n",
       "      <td>1</td>\n",
       "      <td>Data scientist</td>\n",
       "    </tr>\n",
       "    <tr>\n",
       "      <th>5712</th>\n",
       "      <td>Ball Aerospace</td>\n",
       "      <td>NaN</td>\n",
       "      <td>Hadoop/Hive/Vertica/Tableau</td>\n",
       "      <td>Bachelor</td>\n",
       "      <td>3.0</td>\n",
       "      <td>Paris</td>\n",
       "      <td>confirmé</td>\n",
       "      <td>2</td>\n",
       "      <td>0</td>\n",
       "      <td>Data scientist</td>\n",
       "    </tr>\n",
       "    <tr>\n",
       "      <th>6024</th>\n",
       "      <td>Leidos</td>\n",
       "      <td>NaN</td>\n",
       "      <td>Linux/Python/Hadoop/Perl/Ruby</td>\n",
       "      <td>Master</td>\n",
       "      <td>1.5</td>\n",
       "      <td>Lyon</td>\n",
       "      <td>confirmé</td>\n",
       "      <td>4</td>\n",
       "      <td>1</td>\n",
       "      <td>Data architecte</td>\n",
       "    </tr>\n",
       "    <tr>\n",
       "      <th>6625</th>\n",
       "      <td>Ball Aerospace</td>\n",
       "      <td>NaN</td>\n",
       "      <td>Hadoop/Hive/Vertica/Tableau</td>\n",
       "      <td>No diploma</td>\n",
       "      <td>0.0</td>\n",
       "      <td>Paris</td>\n",
       "      <td>debutant</td>\n",
       "      <td>2</td>\n",
       "      <td>2</td>\n",
       "      <td>Data scientist</td>\n",
       "    </tr>\n",
       "    <tr>\n",
       "      <th>7091</th>\n",
       "      <td>KPMG</td>\n",
       "      <td>NaN</td>\n",
       "      <td>SAS/Teradata/SQL/R/Python/Machine learning/Ang...</td>\n",
       "      <td>Master</td>\n",
       "      <td>0.0</td>\n",
       "      <td>Marseille</td>\n",
       "      <td>debutant</td>\n",
       "      <td>12</td>\n",
       "      <td>1</td>\n",
       "      <td>Data scientist</td>\n",
       "    </tr>\n",
       "    <tr>\n",
       "      <th>7228</th>\n",
       "      <td>Environmental Defense Fund</td>\n",
       "      <td>NaN</td>\n",
       "      <td>Map-Reduce/HDFS/PIG/HBASE/Python/Cassandra</td>\n",
       "      <td>Master</td>\n",
       "      <td>2.5</td>\n",
       "      <td>Bordeaux</td>\n",
       "      <td>confirmé</td>\n",
       "      <td>5</td>\n",
       "      <td>1</td>\n",
       "      <td>Data engineer</td>\n",
       "    </tr>\n",
       "    <tr>\n",
       "      <th>7330</th>\n",
       "      <td>Turner</td>\n",
       "      <td>NaN</td>\n",
       "      <td>Excel/Python/Matlab/R/machine learning/anglais</td>\n",
       "      <td>Phd</td>\n",
       "      <td>0.5</td>\n",
       "      <td>Lyon</td>\n",
       "      <td>debutant</td>\n",
       "      <td>1</td>\n",
       "      <td>3</td>\n",
       "      <td>Data engineer</td>\n",
       "    </tr>\n",
       "    <tr>\n",
       "      <th>9087</th>\n",
       "      <td>Klein Hersh International</td>\n",
       "      <td>NaN</td>\n",
       "      <td>Hadoop/Hive/Vertica/Tableau</td>\n",
       "      <td>No diploma</td>\n",
       "      <td>3.5</td>\n",
       "      <td>Paris</td>\n",
       "      <td>confirmé</td>\n",
       "      <td>2</td>\n",
       "      <td>2</td>\n",
       "      <td>Data scientist</td>\n",
       "    </tr>\n",
       "    <tr>\n",
       "      <th>9427</th>\n",
       "      <td>McKinsey &amp; Company</td>\n",
       "      <td>NaN</td>\n",
       "      <td>Python/R/machine learning/Excel/VBA/C++</td>\n",
       "      <td>Master</td>\n",
       "      <td>1.0</td>\n",
       "      <td>Marseille</td>\n",
       "      <td>debutant</td>\n",
       "      <td>8</td>\n",
       "      <td>1</td>\n",
       "      <td>Data scientist</td>\n",
       "    </tr>\n",
       "    <tr>\n",
       "      <th>9490</th>\n",
       "      <td>Pearson</td>\n",
       "      <td>NaN</td>\n",
       "      <td>R/Python/Spark/Pycharm/SAS/SQL</td>\n",
       "      <td>Master</td>\n",
       "      <td>4.0</td>\n",
       "      <td>Marseille</td>\n",
       "      <td>confirmé</td>\n",
       "      <td>11</td>\n",
       "      <td>1</td>\n",
       "      <td>Data scientist</td>\n",
       "    </tr>\n",
       "  </tbody>\n",
       "</table>\n",
       "</div>"
      ],
      "text/plain": [
       "                      Entreprise Metier  \\\n",
       "346                       Jacobs    NaN   \n",
       "2058              Ball Aerospace    NaN   \n",
       "2670                  eHire, LLC    NaN   \n",
       "2899       Norfolk Southern Corp    NaN   \n",
       "3346       J.E. Ranta Associates    NaN   \n",
       "4248                        KPMG    NaN   \n",
       "4290         Pandora Media, Inc.    NaN   \n",
       "4292    Partners HealthCare(PHS)    NaN   \n",
       "5425           Ashton Lane Group    NaN   \n",
       "5593     Lighthouse Lab Services    NaN   \n",
       "5712              Ball Aerospace    NaN   \n",
       "6024                      Leidos    NaN   \n",
       "6625              Ball Aerospace    NaN   \n",
       "7091                        KPMG    NaN   \n",
       "7228  Environmental Defense Fund    NaN   \n",
       "7330                      Turner    NaN   \n",
       "9087   Klein Hersh International    NaN   \n",
       "9427          McKinsey & Company    NaN   \n",
       "9490                     Pearson    NaN   \n",
       "\n",
       "                                           Technologies     Diplome  \\\n",
       "346                              Python/Spark/GNU/Linux  No diploma   \n",
       "2058                                 VBA/Python/Excel/R      Master   \n",
       "2670                                Java/C/C++/R/Python      Master   \n",
       "2899     Python/Tensorflow/scikit-learn/Deep learning/R         Phd   \n",
       "3346                        Cassandra/MongoDB/NoSQL/AWS      Master   \n",
       "4248                       Python/Microsoft Azure/R/SQL         Phd   \n",
       "4290  SAS/Teradata/SQL/R/Python/Machine learning/Ang...         Phd   \n",
       "4292  SAS/Teradata/SQL/R/Python/Machine learning/Ang...      Master   \n",
       "5425                               Python/Pyspark/Spark  No diploma   \n",
       "5593            Python/R/machine learning/Excel/VBA/C++      Master   \n",
       "5712                        Hadoop/Hive/Vertica/Tableau    Bachelor   \n",
       "6024                      Linux/Python/Hadoop/Perl/Ruby      Master   \n",
       "6625                        Hadoop/Hive/Vertica/Tableau  No diploma   \n",
       "7091  SAS/Teradata/SQL/R/Python/Machine learning/Ang...      Master   \n",
       "7228         Map-Reduce/HDFS/PIG/HBASE/Python/Cassandra      Master   \n",
       "7330     Excel/Python/Matlab/R/machine learning/anglais         Phd   \n",
       "9087                        Hadoop/Hive/Vertica/Tableau  No diploma   \n",
       "9427            Python/R/machine learning/Excel/VBA/C++      Master   \n",
       "9490                     R/Python/Spark/Pycharm/SAS/SQL      Master   \n",
       "\n",
       "      Experience      Ville Exp_label  Technologies_enc  Diplome_enc  \\\n",
       "346          2.5      Paris  confirmé                 9            2   \n",
       "2058        15.0       Lyon    expert                13            1   \n",
       "2670         1.5   Toulouse  confirmé                 3            1   \n",
       "2899         0.0   Grenoble  debutant                10            3   \n",
       "3346         7.0     Rennes    avancé                 0            1   \n",
       "4248         2.0       Lyon  confirmé                 6            3   \n",
       "4290         1.5   Toulouse  confirmé                12            3   \n",
       "4292         8.0   Bordeaux    avancé                12            1   \n",
       "5425         5.0       Lyon    avancé                 7            2   \n",
       "5593         3.0       Lyon  confirmé                 8            1   \n",
       "5712         3.0      Paris  confirmé                 2            0   \n",
       "6024         1.5       Lyon  confirmé                 4            1   \n",
       "6625         0.0      Paris  debutant                 2            2   \n",
       "7091         0.0  Marseille  debutant                12            1   \n",
       "7228         2.5   Bordeaux  confirmé                 5            1   \n",
       "7330         0.5       Lyon  debutant                 1            3   \n",
       "9087         3.5      Paris  confirmé                 2            2   \n",
       "9427         1.0  Marseille  debutant                 8            1   \n",
       "9490         4.0  Marseille  confirmé                11            1   \n",
       "\n",
       "        Prediction_Metier  \n",
       "346        Data scientist  \n",
       "2058       Data scientist  \n",
       "2670      Data architecte  \n",
       "2899       Data scientist  \n",
       "3346        Data engineer  \n",
       "4248       Data scientist  \n",
       "4290       Data scientist  \n",
       "4292  Lead data scientist  \n",
       "5425      Data architecte  \n",
       "5593       Data scientist  \n",
       "5712       Data scientist  \n",
       "6024      Data architecte  \n",
       "6625       Data scientist  \n",
       "7091       Data scientist  \n",
       "7228        Data engineer  \n",
       "7330        Data engineer  \n",
       "9087       Data scientist  \n",
       "9427       Data scientist  \n",
       "9490       Data scientist  "
      ]
     },
     "execution_count": 82,
     "metadata": {},
     "output_type": "execute_result"
    }
   ],
   "source": [
    "#prediction des metiers manquants\n",
    "#separation des variables et labels\n",
    "\n",
    "X_manquant = candidats_sans_metier[['Technologies_enc','Diplome_enc','Experience']]\n",
    "\n",
    "# Mettre tous les features dans la même échelle\n",
    "X_manquant = StandardScaler().fit_transform(X_manquant)\n",
    "candidats_sans_metier[\"Prediction_Metier\"] = models_objects['dtree'].predict(X_manquant) #models_objects['dtree'] contient le model de dtree entrainé précédement\n",
    "candidats_sans_metier"
   ]
  },
  {
   "cell_type": "markdown",
   "metadata": {},
   "source": [
    "**8-b) Interpréter votre résultat**  \n",
    "Parmi les trois algorithmes que nous avons évalués, l'arbre de décision a affiché la meilleure accuracy sur le dataset de train. Toutefois, la précision sur l'ensemble de test est légèrement inférieure à celle du dataset de test.\n",
    "\n",
    "Néanmoins, lorsqu'on examine les prédictions faites pour les métiers manquants, on observe que le modèle effectue un travail assez satisfaisant. En se basant sur notre expertise, certains éléments de compétences correspondent clairement à celles d'un Data Engineer, et le modèle a correctement étiqueté ce métier :\n",
    "\n",
    "- Cassandra/MongoDB/NoSQL/AWS\n",
    "- Map-Reduce/HDFS/PIG/HBASE/Python/Cassandra\n",
    "\n",
    "Ces compétences ont été convenablement associées au profil de Data Engineer par le modèle, ce qui suggère une capacité adéquate du modèle à identifier des caractéristiques spécifiques aux différents métiers.\n"
   ]
  },
  {
   "cell_type": "markdown",
   "metadata": {},
   "source": [
    "Aussi, en se basant sur notre \"expertise\" par exemples les compétences suivantes correspondent bien  à celle d'un Data scientist et le métier a été correctement labelisé: \n",
    "\n",
    "- Python/R/machine learning/Excel/VBA/C++ \n",
    "- SAS/Teradata/SQL/R/Python/Machine learning/Ang..\n",
    "- Python/Tensorflow/scikit-learn/Deep learning/R\t\n"
   ]
  },
  {
   "cell_type": "markdown",
   "metadata": {},
   "source": [
    "En outre, en se basant sur notre \"expertise\" par exemples les compétences suivantes correspondent bien  à celle d'un Data architecte et le métier a été correctement labelisé: \n",
    "\n",
    "- Linux/Python/Hadoop/Perl/Ruby "
   ]
  },
  {
   "cell_type": "markdown",
   "metadata": {},
   "source": [
    "**Merci pour votre temps !!!**"
   ]
  }
 ],
 "metadata": {
  "kernelspec": {
   "display_name": "Python 3",
   "language": "python",
   "name": "python3"
  },
  "language_info": {
   "codemirror_mode": {
    "name": "ipython",
    "version": 3
   },
   "file_extension": ".py",
   "mimetype": "text/x-python",
   "name": "python",
   "nbconvert_exporter": "python",
   "pygments_lexer": "ipython3",
   "version": "3.8.10"
  }
 },
 "nbformat": 4,
 "nbformat_minor": 2
}
